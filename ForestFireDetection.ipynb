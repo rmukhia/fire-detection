{
 "cells": [
  {
   "cell_type": "markdown",
   "metadata": {},
   "source": [
    "# Forest Fire Detection System - Main Workflow\n",
    "\n",
    "This Jupyter Notebook serves as the main entry point for the Forest Fire Detection System. It orchestrates the entire workflow, from data preprocessing and dataset creation to model training, evaluation, and hyperparameter tuning. Each step can be run independently or sequentially.\n",
    "https://firms.modaps.eosdis.nasa.gov/descriptions/FIRMS_VIIRS_Firehotspots.html\n",
    "\n",
    "acquired time is UTC"
   ]
  },
  {
   "cell_type": "markdown",
   "metadata": {},
   "source": [
    "## 1. Setup and Configuration"
   ]
  },
  {
   "cell_type": "code",
   "execution_count": 1,
   "metadata": {
    "execution": {
     "iopub.execute_input": "2025-09-02T08:18:56.448303Z",
     "iopub.status.busy": "2025-09-02T08:18:56.447799Z",
     "iopub.status.idle": "2025-09-02T08:19:06.420287Z",
     "shell.execute_reply": "2025-09-02T08:19:06.419565Z",
     "shell.execute_reply.started": "2025-09-02T08:18:56.448275Z"
    }
   },
   "outputs": [
    {
     "name": "stdout",
     "output_type": "stream",
     "text": [
      "Processing with window size 120 minutes and offset 7h\n",
      "Using data directory: data\n",
      "Using output directory: ff_data/output_120min_7h\n",
      "Using model directory: model_120min_7h\n"
     ]
    }
   ],
   "source": [
    "import os\n",
    "import sys\n",
    "import logging\n",
    "\n",
    "# Add 'aad' directory to sys.path for module imports\n",
    "sys.path.insert(0, os.path.abspath(\"aad\"))\n",
    "\n",
    "from aad.common.config import Config\n",
    "from aad.common.reload_all import reload_all\n",
    "import aad.autoencoder.trainer_standard as trainer_standard\n",
    "import aad.autoencoder.utils as utils\n",
    "import aad.autoencoder.evaluator as evaluator\n",
    "#import aad.model_tuning as model_tuning\n",
    "import aad.autoencoder.clustering as clustering\n",
    "from aad.data.utils import create_full_dataloader\n",
    "from aad.common.core_logging import ProcessLogger\n",
    "\n",
    "# Configure logging for better output in the notebook\n",
    "logging.basicConfig(level=logging.INFO, format='%(asctime)s - %(levelname)s - %(message)s')\n",
    "# Initialize configuration\n",
    "# You can change these paths as needed\n",
    "DATA_DIR = \"data\"\n",
    "\n",
    "OUTPUT_DIR = f'ff_data/output_120min_7h'\n",
    "MODEL_DIR = f'model_120min_7h'\n",
    "DATASET_DIR = f'dataset_120min_7h'\n",
    "\n",
    "# Set environment variables for the Config class to pick up\n",
    "os.environ['OUTPUT_DIR'] = OUTPUT_DIR\n",
    "os.environ['MODEL_DIR'] = MODEL_DIR\n",
    "os.environ['DATASET_DIR'] = DATASET_DIR\n",
    "os.environ['DATA_DIR'] = DATA_DIR\n",
    "\n",
    "config = Config()\n",
    "config.data_pipeline.LOCAL_OFFSET_MINUTES = 420\n",
    "config.data_pipeline.WINDOW_DURATION_MINUTES = 120\n",
    "\n",
    "print(f'Processing with window size {120} minutes and offset 7h')\n",
    "\n",
    "config = Config()\n",
    "\n",
    "print(f\"Using data directory: {config.paths.DATA_DIR}\")\n",
    "print(f\"Using output directory: {config.paths.OUTPUT_DIR}\")\n",
    "print(f\"Using model directory: {config.paths.MODEL_DIR}\")\n",
    "\n",
    "# Ensure directories exist (Config() constructor already does this, but explicit is fine)\n",
    "os.makedirs(config.paths.DATA_DIR, exist_ok=True)\n",
    "os.makedirs(config.paths.OUTPUT_DIR, exist_ok=True)\n",
    "os.makedirs(config.paths.MODEL_DIR, exist_ok=True)"
   ]
  },
  {
   "cell_type": "markdown",
   "metadata": {},
   "source": [
    "## 4. Train the Autoencoder Model"
   ]
  },
  {
   "cell_type": "markdown",
   "metadata": {},
   "source": [
    "This section trains the autoencoder neural network using the prepared dataset. The model learns to reconstruct normal environmental patterns, which is crucial for anomaly detection."
   ]
  },
  {
   "cell_type": "code",
   "execution_count": 2,
   "metadata": {
    "execution": {
     "iopub.execute_input": "2025-09-02T08:19:06.421694Z",
     "iopub.status.busy": "2025-09-02T08:19:06.421365Z",
     "iopub.status.idle": "2025-09-02T08:19:06.440965Z",
     "shell.execute_reply": "2025-09-02T08:19:06.440095Z",
     "shell.execute_reply.started": "2025-09-02T08:19:06.421671Z"
    }
   },
   "outputs": [
    {
     "name": "stderr",
     "output_type": "stream",
     "text": [
      "/opt/conda/envs/py_3.12/lib/python3.12/site-packages/torch/nn/modules/transformer.py:385: UserWarning: enable_nested_tensor is True, but self.use_nested_tensor is False because encoder_layer.norm_first was True\n",
      "  warnings.warn(\n"
     ]
    }
   ],
   "source": [
    "# ForestFireDetection.ipynb\n",
    "\n",
    "import logging\n",
    "from aad.autoencoder.trainer_standard import StandardTrainer\n",
    "from aad.autoencoder.model_vae import VariationalAutoencoder\n",
    "from aad.autoencoder.model_dense import Autoencoder\n",
    "from aad.data.utils import create_dataloaders\n",
    "from aad.common.reload_all import reload_all  # Explicit import for clarity\n",
    "\n",
    "num_features = len(config.data_pipeline.INPUT_COLUMNS) + len(config.data_pipeline.INPUT_COLUMNS) * len(config.data_pipeline.SMA_MULTIPLIERS) * 4 # 3 is sma, median, min and max\n",
    "config.training.BATCH_SIZE = 256\n",
    "config.tuning.LATENT_DIM = 24\n",
    "\n",
    "\n",
    "model = Autoencoder(\n",
    "    time_steps=60,\n",
    "    #time_steps=config.data_pipeline.WINDOW_SIZE,\n",
    "    num_features=num_features,\n",
    "    latent_dim=config.tuning.LATENT_DIM,\n",
    "    dropout=0.0,\n",
    "    d_model=num_features,\n",
    "    num_heads=3,\n",
    ")\n"
   ]
  },
  {
   "cell_type": "raw",
   "metadata": {
    "execution": {
     "iopub.execute_input": "2025-09-02T07:30:15.236139Z",
     "iopub.status.busy": "2025-09-02T07:30:15.235838Z",
     "iopub.status.idle": "2025-09-02T07:50:50.011416Z",
     "shell.execute_reply": "2025-09-02T07:50:50.010856Z",
     "shell.execute_reply.started": "2025-09-02T07:30:15.236120Z"
    }
   },
   "source": [
    "reload_all()\n",
    "\n",
    "config.training.RANDOM_SEED = 22\n",
    "config.training.EPOCHS = 100\n",
    "config.training.LEARNING_RATE = 1e-4\n",
    "config.training.PATIENCE = 25\n",
    "config.training.USE_BETA_SCHEDULE = True\n",
    "config.training.BETA_SCHEDULE_TYPE = \"cosine\"\n",
    "config.training.DEVICE = \"cuda\"\n",
    "config.data_pipeline.NUM_SAMPLES = 200_000\n",
    "\n",
    "logger = ProcessLogger(config, \"trainer\")\n",
    "trainer = StandardTrainer(\n",
    "    logger=logger,\n",
    "    random_seed=config.training.RANDOM_SEED,\n",
    "    epochs=config.training.EPOCHS,\n",
    "    patience=config.training.PATIENCE,\n",
    "    learning_rate=config.training.LEARNING_RATE,\n",
    "    loss_function_name=config.training.LOSS_FUNCTION,\n",
    "    optimizer_name=config.training.OPTIMIZER,\n",
    "    batch_size=config.training.BATCH_SIZE,\n",
    "    latent_dim=config.tuning.LATENT_DIM,\n",
    "    hidden_dim=config.tuning.HIDDEN_DIM,\n",
    "    window_size=config.data_pipeline.WINDOW_SIZE,\n",
    "    num_features=len(config.data_pipeline.INPUT_COLUMNS),\n",
    "    device=config.training.DEVICE,\n",
    "    stats_images_dir=config.paths.STATS_IMAGES_DIR,\n",
    "    training_statistics_image_path=config.paths.TRAINING_STATISTICS_IMAGE_PATH,\n",
    "    best_model_path=config.paths.BEST_MODEL_PATH,\n",
    "    loss_history_path=config.paths.LOSS_HISTORY_PATH,\n",
    "    callbacks=None,\n",
    ")\n",
    "\n",
    "train_loader, val_loader, test_loader = create_dataloaders(\n",
    "    config.paths.DATASET_PATH,\n",
    "    config.data_pipeline.NUM_SAMPLES,\n",
    "    config.training.RANDOM_SEED,\n",
    "    config.training.TRAIN_SPLIT,\n",
    "    config.training.VAL_SPLIT,\n",
    "    config.training.BATCH_SIZE,\n",
    "    ProcessLogger(config, \"dataloader\"),\n",
    "    remove_fire_labels=True,\n",
    "    fire_threshold_distance_min=20000,\n",
    ")\n",
    "\n",
    "print(train_loader.dataset.tensors[0].shape)\n",
    "model, _ = trainer.train(model, train_loader, val_loader, True)\n",
    "logging.info(\"Training completed successfully.\")\n",
    "\n"
   ]
  },
  {
   "cell_type": "markdown",
   "metadata": {},
   "source": [
    "## 5. Evaluate the Model"
   ]
  },
  {
   "cell_type": "markdown",
   "metadata": {},
   "source": [
    "After training, the model is evaluated to assess its performance in detecting anomalies. This step calculates reconstruction errors, applies anomaly thresholds, and compares predictions against ground truth fire events to compute metrics like precision, recall, and F1-score."
   ]
  },
  {
   "cell_type": "code",
   "execution_count": 3,
   "metadata": {
    "execution": {
     "iopub.execute_input": "2025-09-02T08:19:06.441971Z",
     "iopub.status.busy": "2025-09-02T08:19:06.441653Z",
     "iopub.status.idle": "2025-09-02T08:19:46.368577Z",
     "shell.execute_reply": "2025-09-02T08:19:46.367826Z",
     "shell.execute_reply.started": "2025-09-02T08:19:06.441950Z"
    }
   },
   "outputs": [
    {
     "name": "stdout",
     "output_type": "stream",
     "text": [
      "INFO: [dataloader] Dataset loaded successfully\n"
     ]
    },
    {
     "name": "stderr",
     "output_type": "stream",
     "text": [
      "2025-09-02 15:19:09,564 - INFO - [dataloader] Dataset loaded successfully\n"
     ]
    },
    {
     "name": "stdout",
     "output_type": "stream",
     "text": [
      "INFO: [evaluator] ModelEvaluator initialized with device=cuda, model=Autoencoder, test_loader=DataLoader\n"
     ]
    },
    {
     "name": "stderr",
     "output_type": "stream",
     "text": [
      "2025-09-02 15:19:09,958 - INFO - [evaluator] ModelEvaluator initialized with device=cuda, model=Autoencoder, test_loader=DataLoader\n"
     ]
    },
    {
     "name": "stdout",
     "output_type": "stream",
     "text": [
      "INFO: [evaluator] Computing anomaly scores\n"
     ]
    },
    {
     "name": "stderr",
     "output_type": "stream",
     "text": [
      "2025-09-02 15:19:09,959 - INFO - [evaluator] Computing anomaly scores\n"
     ]
    },
    {
     "data": {
      "application/vnd.jupyter.widget-view+json": {
       "model_id": "9cf256cd5143412b909dcfaf2b113ad4",
       "version_major": 2,
       "version_minor": 0
      },
      "text/plain": [
       "Computing anomaly scores:   0%|          | 0/2364 [00:00<?, ?it/s]"
      ]
     },
     "metadata": {},
     "output_type": "display_data"
    },
    {
     "name": "stdout",
     "output_type": "stream",
     "text": [
      "INFO: [evaluator] Anomaly scores computed\n"
     ]
    },
    {
     "name": "stderr",
     "output_type": "stream",
     "text": [
      "2025-09-02 15:19:46,339 - INFO - [evaluator] Anomaly scores computed\n"
     ]
    }
   ],
   "source": [
    "import aad.autoencoder.evaluator as evaluator\n",
    "import torch\n",
    "from importlib import reload \n",
    "\n",
    "config.training.DEVICE = \"cuda\"\n",
    "config.training.BATCH_SIZE = 256\n",
    "\n",
    "test_loader = create_full_dataloader(\n",
    "    config.paths.DATASET_PATH,\n",
    "    None,\n",
    "    config.training.RANDOM_SEED,\n",
    "    config.training.BATCH_SIZE,\n",
    "    ProcessLogger(config, \"dataloader\"),\n",
    ")\n",
    "\n",
    "reload(evaluator)\n",
    "\n",
    "logger = ProcessLogger(config, \"evaluator\")\n",
    "model.load_state_dict(torch.load(config.paths.BEST_MODEL_PATH, config.training.DEVICE))\n",
    "config.training.ANOMALY_THRESHOLD_PERCENTILE = 99.98\n",
    "config.training.DISTANCE_FILTER_THRESHOLD_M = 7000\n",
    "evaluator = evaluator.ModelEvaluator(\n",
    "    distance_filter_threshold_m=config.training.DISTANCE_FILTER_THRESHOLD_M,\n",
    "    device=config.training.DEVICE,\n",
    "    logger=logger,\n",
    "    model=model,\n",
    "    test_loader=test_loader,\n",
    "    stats_images_dir=config.paths.STATS_IMAGES_DIR,\n",
    "    stats_csv_dir=config.paths.STATS_CSV_DIR,\n",
    "    eval_stats_img_path=config.paths.EVALUATION_STATISTICS_IMAGE_PATH,\n",
    "    eval_results_csv_path=config.paths.EVALUATION_RESULTS_CSV_PATH,\n",
    "    eval_summary_json_path=config.paths.EVALUATION_SUMMARY_JSON_PATH,\n",
    ")\n",
    "\n",
    "anomaly_scores, all_window_ids, all_fire_ids, all_distances  = evaluator.compute_anomaly_scores()\n"
   ]
  },
  {
   "cell_type": "code",
   "execution_count": 6,
   "metadata": {
    "execution": {
     "iopub.execute_input": "2025-09-02T08:23:12.441559Z",
     "iopub.status.busy": "2025-09-02T08:23:12.441237Z",
     "iopub.status.idle": "2025-09-02T08:23:28.104165Z",
     "shell.execute_reply": "2025-09-02T08:23:28.103635Z",
     "shell.execute_reply.started": "2025-09-02T08:23:12.441529Z"
    }
   },
   "outputs": [
    {
     "name": "stdout",
     "output_type": "stream",
     "text": [
      "INFO: [evaluator] Starting model evaluation\n"
     ]
    },
    {
     "name": "stderr",
     "output_type": "stream",
     "text": [
      "2025-09-02 15:23:12,442 - INFO - [evaluator] Starting model evaluation\n"
     ]
    },
    {
     "name": "stdout",
     "output_type": "stream",
     "text": [
      "INFO: [evaluator] Anomaly threshold computed\n"
     ]
    },
    {
     "name": "stderr",
     "output_type": "stream",
     "text": [
      "2025-09-02 15:23:12,453 - INFO - [evaluator] Anomaly threshold computed\n"
     ]
    },
    {
     "name": "stdout",
     "output_type": "stream",
     "text": [
      "INFO: [evaluator] Creating true labels with fire IDs and distance filtering\n"
     ]
    },
    {
     "name": "stderr",
     "output_type": "stream",
     "text": [
      "2025-09-02 15:23:12,455 - INFO - [evaluator] Creating true labels with fire IDs and distance filtering\n"
     ]
    },
    {
     "name": "stdout",
     "output_type": "stream",
     "text": [
      "INFO: [evaluator] True labels created with distance filtering\n"
     ]
    },
    {
     "name": "stderr",
     "output_type": "stream",
     "text": [
      "2025-09-02 15:23:12,463 - INFO - [evaluator] True labels created with distance filtering\n"
     ]
    },
    {
     "name": "stdout",
     "output_type": "stream",
     "text": [
      "INFO: [evaluator] Evaluation metrics calculated\n"
     ]
    },
    {
     "name": "stderr",
     "output_type": "stream",
     "text": [
      "2025-09-02 15:23:12,477 - INFO - [evaluator] Evaluation metrics calculated\n"
     ]
    },
    {
     "data": {
      "image/png": "[encoded data removed]",
      "text/plain": [
       "<Figure size 1800x1200 with 7 Axes>"
      ]
     },
     "metadata": {},
     "output_type": "display_data"
    },
    {
     "name": "stdout",
     "output_type": "stream",
     "text": [
      "INFO: [evaluator] Evaluation statistics saved to: ff_data/output_120min_7h/stats/images/evaluation_statistics.png\n"
     ]
    },
    {
     "name": "stderr",
     "output_type": "stream",
     "text": [
      "2025-09-02 15:23:25,345 - INFO - [evaluator] Evaluation statistics saved to: ff_data/output_120min_7h/stats/images/evaluation_statistics.png\n"
     ]
    },
    {
     "name": "stdout",
     "output_type": "stream",
     "text": [
      "INFO: [evaluator] Evaluation results saved to ff_data/output_120min_7h/stats/csv/evaluation_results.csv and ff_data/output_120min_7h/stats/csv/evaluation_summary.json\n"
     ]
    },
    {
     "name": "stderr",
     "output_type": "stream",
     "text": [
      "2025-09-02 15:23:26,281 - INFO - [evaluator] Evaluation results saved to ff_data/output_120min_7h/stats/csv/evaluation_results.csv and ff_data/output_120min_7h/stats/csv/evaluation_summary.json\n"
     ]
    },
    {
     "name": "stdout",
     "output_type": "stream",
     "text": [
      "INFO: Process timeline saved to ff_data/output_120min_7h/stats/images/evaluator_timeline.png\n"
     ]
    },
    {
     "name": "stderr",
     "output_type": "stream",
     "text": [
      "2025-09-02 15:23:27,077 - INFO - Process timeline saved to ff_data/output_120min_7h/stats/images/evaluator_timeline.png\n"
     ]
    },
    {
     "name": "stdout",
     "output_type": "stream",
     "text": [
      "[DEBUG] Plotting metrics: {'total_samples': 605095, 'mean_score': 0.06142212077975273, 'std_score': 1.1236581802368164, 'min_score': 0.00045881856931373477, 'max_score': 63.803375244140625, 'threshold_percentile': 99.98, 'threshold_value': 47.9333025787466, 'predicted_anomalies': 122, 'potential_fire_samples': 474077, 'distance_filtered_fire_samples': 92337, 'normal_samples': 512758, 'distance_threshold_m': 7000, 'true_positives': 122, 'false_positives': 0, 'false_negatives': 92215, 'true_negatives': 512758, 'precision': 1.0, 'recall': 0.0013212471706899726, 'f1_score': 0.0026390075601077233, 'accuracy': 0.8476024425916592, 'specificity': 1.0}\n",
      "INFO: Metrics plot saved to ff_data/output_120min_7h/stats/images/evaluator_metrics.png\n"
     ]
    },
    {
     "name": "stderr",
     "output_type": "stream",
     "text": [
      "2025-09-02 15:23:27,698 - INFO - Metrics plot saved to ff_data/output_120min_7h/stats/images/evaluator_metrics.png\n"
     ]
    },
    {
     "data": {
      "image/png": "[encoded data removed]",
      "text/plain": [
       "<Figure size 1200x600 with 1 Axes>"
      ]
     },
     "metadata": {},
     "output_type": "display_data"
    },
    {
     "data": {
      "image/png": "[encoded data removed]",
      "text/plain": [
       "<Figure size 1000x600 with 1 Axes>"
      ]
     },
     "metadata": {},
     "output_type": "display_data"
    }
   ],
   "source": [
    "config.training.ANOMALY_THRESHOLD_PERCENTILE = 99.98\n",
    "result = evaluator.evaluate_model(anomaly_scores, all_window_ids, all_fire_ids, all_distances, config.training.ANOMALY_THRESHOLD_PERCENTILE, True)"
   ]
  },
  {
   "cell_type": "code",
   "execution_count": 35,
   "metadata": {
    "execution": {
     "iopub.execute_input": "2025-09-02T08:48:31.440394Z",
     "iopub.status.busy": "2025-09-02T08:48:31.440070Z",
     "iopub.status.idle": "2025-09-02T08:48:38.271757Z",
     "shell.execute_reply": "2025-09-02T08:48:38.271040Z",
     "shell.execute_reply.started": "2025-09-02T08:48:31.440367Z"
    }
   },
   "outputs": [],
   "source": [
    "import numpy as np\n",
    "from pathlib import Path\n",
    "import pandas as pd\n",
    "import plotly.express as px\n",
    "\n",
    "true_window = np.unique(result['true_positive_window_ids'])\n",
    "sensor_files = list(Path('dd/ff_data/output_120min_7h/annotated_data/').glob(\"sensor_*.parquet\"))\n",
    "if not sensor_files:\n",
    "    raise ValueError(\"No annotated sensor data found.\")\n",
    "\n",
    "valid_windows_times = []\n",
    "for sensor_file in sensor_files:\n",
    "    df = pd.read_parquet(sensor_file)\n",
    "    # Adjust these column names to match your data\n",
    "    valid_df = df[df['window_id'].isin(true_window)]\n",
    "    # Assuming columns: 'window_start' and 'window_end'\n",
    "    valid_windows_times.append(valid_df)\n",
    "    \n",
    "\n",
    "cc = pd.concat(valid_windows_times)\n",
    "cc\n",
    "data = cc.groupby('window_id').agg(\n",
    "        window_start=('Datetime', 'min'),\n",
    "        window_end=('Datetime', 'max')\n",
    "    ).reset_index()"
   ]
  },
  {
   "cell_type": "code",
   "execution_count": 43,
   "metadata": {
    "execution": {
     "iopub.execute_input": "2025-09-02T08:53:09.537644Z",
     "iopub.status.busy": "2025-09-02T08:53:09.536678Z",
     "iopub.status.idle": "2025-09-02T08:53:10.002167Z",
     "shell.execute_reply": "2025-09-02T08:53:10.001669Z",
     "shell.execute_reply.started": "2025-09-02T08:53:09.537614Z"
    }
   },
   "outputs": [
    {
     "data": {
      "application/vnd.plotly.v1+json": {
       "config": {
        "plotlyServerURL": "https://plot.ly"
       },
       "data": [
        {
         "base": [
          "2023-04-15T00:33:22"
         ],
         "hovertemplate": "window_id=%{y}<br>window_start=%{base}<br>window_end=%{x}<extra></extra>",
         "legendgroup": "420928",
         "marker": {
          "color": "#636efa",
          "pattern": {
           "shape": ""
          }
         },
         "name": "420928",
         "orientation": "h",
         "showlegend": true,
         "textposition": "auto",
         "type": "bar",
         "x": {
          "bdata": "QAhsAA==",
          "dtype": "i4"
         },
         "xaxis": "x",
         "y": {
          "bdata": "QGwGAA==",
          "dtype": "i4"
         },
         "yaxis": "y"
        },
        {
         "base": [
          "2023-04-15T00:35:22"
         ],
         "hovertemplate": "window_id=%{y}<br>window_start=%{base}<br>window_end=%{x}<extra></extra>",
         "legendgroup": "420929",
         "marker": {
          "color": "#EF553B",
          "pattern": {
           "shape": ""
          }
         },
         "name": "420929",
         "orientation": "h",
         "showlegend": true,
         "textposition": "auto",
         "type": "bar",
         "x": {
          "bdata": "QAhsAA==",
          "dtype": "i4"
         },
         "xaxis": "x",
         "y": {
          "bdata": "QWwGAA==",
          "dtype": "i4"
         },
         "yaxis": "y"
        },
        {
         "base": [
          "2023-04-15T00:37:22"
         ],
         "hovertemplate": "window_id=%{y}<br>window_start=%{base}<br>window_end=%{x}<extra></extra>",
         "legendgroup": "420930",
         "marker": {
          "color": "#00cc96",
          "pattern": {
           "shape": ""
          }
         },
         "name": "420930",
         "orientation": "h",
         "showlegend": true,
         "textposition": "auto",
         "type": "bar",
         "x": {
          "bdata": "QAhsAA==",
          "dtype": "i4"
         },
         "xaxis": "x",
         "y": {
          "bdata": "QmwGAA==",
          "dtype": "i4"
         },
         "yaxis": "y"
        },
        {
         "base": [
          "2023-04-15T00:39:22"
         ],
         "hovertemplate": "window_id=%{y}<br>window_start=%{base}<br>window_end=%{x}<extra></extra>",
         "legendgroup": "420931",
         "marker": {
          "color": "#ab63fa",
          "pattern": {
           "shape": ""
          }
         },
         "name": "420931",
         "orientation": "h",
         "showlegend": true,
         "textposition": "auto",
         "type": "bar",
         "x": {
          "bdata": "QAhsAA==",
          "dtype": "i4"
         },
         "xaxis": "x",
         "y": {
          "bdata": "Q2wGAA==",
          "dtype": "i4"
         },
         "yaxis": "y"
        },
        {
         "base": [
          "2023-04-15T00:41:22"
         ],
         "hovertemplate": "window_id=%{y}<br>window_start=%{base}<br>window_end=%{x}<extra></extra>",
         "legendgroup": "420932",
         "marker": {
          "color": "#FFA15A",
          "pattern": {
           "shape": ""
          }
         },
         "name": "420932",
         "orientation": "h",
         "showlegend": true,
         "textposition": "auto",
         "type": "bar",
         "x": {
          "bdata": "QAhsAA==",
          "dtype": "i4"
         },
         "xaxis": "x",
         "y": {
          "bdata": "RGwGAA==",
          "dtype": "i4"
         },
         "yaxis": "y"
        },
        {
         "base": [
          "2023-04-15T00:43:22"
         ],
         "hovertemplate": "window_id=%{y}<br>window_start=%{base}<br>window_end=%{x}<extra></extra>",
         "legendgroup": "420933",
         "marker": {
          "color": "#19d3f3",
          "pattern": {
           "shape": ""
          }
         },
         "name": "420933",
         "orientation": "h",
         "showlegend": true,
         "textposition": "auto",
         "type": "bar",
         "x": {
          "bdata": "QAhsAA==",
          "dtype": "i4"
         },
         "xaxis": "x",
         "y": {
          "bdata": "RWwGAA==",
          "dtype": "i4"
         },
         "yaxis": "y"
        },
        {
         "base": [
          "2023-04-15T00:45:22"
         ],
         "hovertemplate": "window_id=%{y}<br>window_start=%{base}<br>window_end=%{x}<extra></extra>",
         "legendgroup": "420934",
         "marker": {
          "color": "#FF6692",
          "pattern": {
           "shape": ""
          }
         },
         "name": "420934",
         "orientation": "h",
         "showlegend": true,
         "textposition": "auto",
         "type": "bar",
         "x": {
          "bdata": "QAhsAA==",
          "dtype": "i4"
         },
         "xaxis": "x",
         "y": {
          "bdata": "RmwGAA==",
          "dtype": "i4"
         },
         "yaxis": "y"
        },
        {
         "base": [
          "2023-04-15T00:47:22"
         ],
         "hovertemplate": "window_id=%{y}<br>window_start=%{base}<br>window_end=%{x}<extra></extra>",
         "legendgroup": "420935",
         "marker": {
          "color": "#B6E880",
          "pattern": {
           "shape": ""
          }
         },
         "name": "420935",
         "orientation": "h",
         "showlegend": true,
         "textposition": "auto",
         "type": "bar",
         "x": {
          "bdata": "QAhsAA==",
          "dtype": "i4"
         },
         "xaxis": "x",
         "y": {
          "bdata": "R2wGAA==",
          "dtype": "i4"
         },
         "yaxis": "y"
        },
        {
         "base": [
          "2023-04-15T00:49:22"
         ],
         "hovertemplate": "window_id=%{y}<br>window_start=%{base}<br>window_end=%{x}<extra></extra>",
         "legendgroup": "420936",
         "marker": {
          "color": "#FF97FF",
          "pattern": {
           "shape": ""
          }
         },
         "name": "420936",
         "orientation": "h",
         "showlegend": true,
         "textposition": "auto",
         "type": "bar",
         "x": {
          "bdata": "QAhsAA==",
          "dtype": "i4"
         },
         "xaxis": "x",
         "y": {
          "bdata": "SGwGAA==",
          "dtype": "i4"
         },
         "yaxis": "y"
        },
        {
         "base": [
          "2023-04-15T00:51:22"
         ],
         "hovertemplate": "window_id=%{y}<br>window_start=%{base}<br>window_end=%{x}<extra></extra>",
         "legendgroup": "420937",
         "marker": {
          "color": "#FECB52",
          "pattern": {
           "shape": ""
          }
         },
         "name": "420937",
         "orientation": "h",
         "showlegend": true,
         "textposition": "auto",
         "type": "bar",
         "x": {
          "bdata": "QAhsAA==",
          "dtype": "i4"
         },
         "xaxis": "x",
         "y": {
          "bdata": "SWwGAA==",
          "dtype": "i4"
         },
         "yaxis": "y"
        },
        {
         "base": [
          "2023-04-15T00:53:22"
         ],
         "hovertemplate": "window_id=%{y}<br>window_start=%{base}<br>window_end=%{x}<extra></extra>",
         "legendgroup": "420938",
         "marker": {
          "color": "#636efa",
          "pattern": {
           "shape": ""
          }
         },
         "name": "420938",
         "orientation": "h",
         "showlegend": true,
         "textposition": "auto",
         "type": "bar",
         "x": {
          "bdata": "QAhsAA==",
          "dtype": "i4"
         },
         "xaxis": "x",
         "y": {
          "bdata": "SmwGAA==",
          "dtype": "i4"
         },
         "yaxis": "y"
        },
        {
         "base": [
          "2023-04-15T00:55:22"
         ],
         "hovertemplate": "window_id=%{y}<br>window_start=%{base}<br>window_end=%{x}<extra></extra>",
         "legendgroup": "420939",
         "marker": {
          "color": "#EF553B",
          "pattern": {
           "shape": ""
          }
         },
         "name": "420939",
         "orientation": "h",
         "showlegend": true,
         "textposition": "auto",
         "type": "bar",
         "x": {
          "bdata": "QAhsAA==",
          "dtype": "i4"
         },
         "xaxis": "x",
         "y": {
          "bdata": "S2wGAA==",
          "dtype": "i4"
         },
         "yaxis": "y"
        },
        {
         "base": [
          "2023-04-15T00:57:22"
         ],
         "hovertemplate": "window_id=%{y}<br>window_start=%{base}<br>window_end=%{x}<extra></extra>",
         "legendgroup": "420940",
         "marker": {
          "color": "#00cc96",
          "pattern": {
           "shape": ""
          }
         },
         "name": "420940",
         "orientation": "h",
         "showlegend": true,
         "textposition": "auto",
         "type": "bar",
         "x": {
          "bdata": "QAhsAA==",
          "dtype": "i4"
         },
         "xaxis": "x",
         "y": {
          "bdata": "TGwGAA==",
          "dtype": "i4"
         },
         "yaxis": "y"
        },
        {
         "base": [
          "2023-04-15T00:59:22"
         ],
         "hovertemplate": "window_id=%{y}<br>window_start=%{base}<br>window_end=%{x}<extra></extra>",
         "legendgroup": "420941",
         "marker": {
          "color": "#ab63fa",
          "pattern": {
           "shape": ""
          }
         },
         "name": "420941",
         "orientation": "h",
         "showlegend": true,
         "textposition": "auto",
         "type": "bar",
         "x": {
          "bdata": "QAhsAA==",
          "dtype": "i4"
         },
         "xaxis": "x",
         "y": {
          "bdata": "TWwGAA==",
          "dtype": "i4"
         },
         "yaxis": "y"
        },
        {
         "base": [
          "2023-04-15T01:01:22"
         ],
         "hovertemplate": "window_id=%{y}<br>window_start=%{base}<br>window_end=%{x}<extra></extra>",
         "legendgroup": "420942",
         "marker": {
          "color": "#FFA15A",
          "pattern": {
           "shape": ""
          }
         },
         "name": "420942",
         "orientation": "h",
         "showlegend": true,
         "textposition": "auto",
         "type": "bar",
         "x": {
          "bdata": "QAhsAA==",
          "dtype": "i4"
         },
         "xaxis": "x",
         "y": {
          "bdata": "TmwGAA==",
          "dtype": "i4"
         },
         "yaxis": "y"
        },
        {
         "base": [
          "2023-04-15T01:03:22"
         ],
         "hovertemplate": "window_id=%{y}<br>window_start=%{base}<br>window_end=%{x}<extra></extra>",
         "legendgroup": "420943",
         "marker": {
          "color": "#19d3f3",
          "pattern": {
           "shape": ""
          }
         },
         "name": "420943",
         "orientation": "h",
         "showlegend": true,
         "textposition": "auto",
         "type": "bar",
         "x": {
          "bdata": "QAhsAA==",
          "dtype": "i4"
         },
         "xaxis": "x",
         "y": {
          "bdata": "T2wGAA==",
          "dtype": "i4"
         },
         "yaxis": "y"
        },
        {
         "base": [
          "2023-04-15T01:05:22"
         ],
         "hovertemplate": "window_id=%{y}<br>window_start=%{base}<br>window_end=%{x}<extra></extra>",
         "legendgroup": "420944",
         "marker": {
          "color": "#FF6692",
          "pattern": {
           "shape": ""
          }
         },
         "name": "420944",
         "orientation": "h",
         "showlegend": true,
         "textposition": "auto",
         "type": "bar",
         "x": {
          "bdata": "QAhsAA==",
          "dtype": "i4"
         },
         "xaxis": "x",
         "y": {
          "bdata": "UGwGAA==",
          "dtype": "i4"
         },
         "yaxis": "y"
        },
        {
         "base": [
          "2023-04-15T01:07:22"
         ],
         "hovertemplate": "window_id=%{y}<br>window_start=%{base}<br>window_end=%{x}<extra></extra>",
         "legendgroup": "420945",
         "marker": {
          "color": "#B6E880",
          "pattern": {
           "shape": ""
          }
         },
         "name": "420945",
         "orientation": "h",
         "showlegend": true,
         "textposition": "auto",
         "type": "bar",
         "x": {
          "bdata": "QAhsAA==",
          "dtype": "i4"
         },
         "xaxis": "x",
         "y": {
          "bdata": "UWwGAA==",
          "dtype": "i4"
         },
         "yaxis": "y"
        },
        {
         "base": [
          "2023-04-15T01:09:22"
         ],
         "hovertemplate": "window_id=%{y}<br>window_start=%{base}<br>window_end=%{x}<extra></extra>",
         "legendgroup": "420946",
         "marker": {
          "color": "#FF97FF",
          "pattern": {
           "shape": ""
          }
         },
         "name": "420946",
         "orientation": "h",
         "showlegend": true,
         "textposition": "auto",
         "type": "bar",
         "x": {
          "bdata": "QAhsAA==",
          "dtype": "i4"
         },
         "xaxis": "x",
         "y": {
          "bdata": "UmwGAA==",
          "dtype": "i4"
         },
         "yaxis": "y"
        },
        {
         "base": [
          "2023-04-15T01:11:22"
         ],
         "hovertemplate": "window_id=%{y}<br>window_start=%{base}<br>window_end=%{x}<extra></extra>",
         "legendgroup": "420947",
         "marker": {
          "color": "#FECB52",
          "pattern": {
           "shape": ""
          }
         },
         "name": "420947",
         "orientation": "h",
         "showlegend": true,
         "textposition": "auto",
         "type": "bar",
         "x": {
          "bdata": "QAhsAA==",
          "dtype": "i4"
         },
         "xaxis": "x",
         "y": {
          "bdata": "U2wGAA==",
          "dtype": "i4"
         },
         "yaxis": "y"
        },
        {
         "base": [
          "2023-04-15T01:13:22"
         ],
         "hovertemplate": "window_id=%{y}<br>window_start=%{base}<br>window_end=%{x}<extra></extra>",
         "legendgroup": "420948",
         "marker": {
          "color": "#636efa",
          "pattern": {
           "shape": ""
          }
         },
         "name": "420948",
         "orientation": "h",
         "showlegend": true,
         "textposition": "auto",
         "type": "bar",
         "x": {
          "bdata": "QAhsAA==",
          "dtype": "i4"
         },
         "xaxis": "x",
         "y": {
          "bdata": "VGwGAA==",
          "dtype": "i4"
         },
         "yaxis": "y"
        },
        {
         "base": [
          "2023-04-15T01:15:22"
         ],
         "hovertemplate": "window_id=%{y}<br>window_start=%{base}<br>window_end=%{x}<extra></extra>",
         "legendgroup": "420949",
         "marker": {
          "color": "#EF553B",
          "pattern": {
           "shape": ""
          }
         },
         "name": "420949",
         "orientation": "h",
         "showlegend": true,
         "textposition": "auto",
         "type": "bar",
         "x": {
          "bdata": "QAhsAA==",
          "dtype": "i4"
         },
         "xaxis": "x",
         "y": {
          "bdata": "VWwGAA==",
          "dtype": "i4"
         },
         "yaxis": "y"
        },
        {
         "base": [
          "2023-04-15T01:17:22"
         ],
         "hovertemplate": "window_id=%{y}<br>window_start=%{base}<br>window_end=%{x}<extra></extra>",
         "legendgroup": "420950",
         "marker": {
          "color": "#00cc96",
          "pattern": {
           "shape": ""
          }
         },
         "name": "420950",
         "orientation": "h",
         "showlegend": true,
         "textposition": "auto",
         "type": "bar",
         "x": {
          "bdata": "QAhsAA==",
          "dtype": "i4"
         },
         "xaxis": "x",
         "y": {
          "bdata": "VmwGAA==",
          "dtype": "i4"
         },
         "yaxis": "y"
        },
        {
         "base": [
          "2023-04-15T01:19:22"
         ],
         "hovertemplate": "window_id=%{y}<br>window_start=%{base}<br>window_end=%{x}<extra></extra>",
         "legendgroup": "420951",
         "marker": {
          "color": "#ab63fa",
          "pattern": {
           "shape": ""
          }
         },
         "name": "420951",
         "orientation": "h",
         "showlegend": true,
         "textposition": "auto",
         "type": "bar",
         "x": {
          "bdata": "QAhsAA==",
          "dtype": "i4"
         },
         "xaxis": "x",
         "y": {
          "bdata": "V2wGAA==",
          "dtype": "i4"
         },
         "yaxis": "y"
        },
        {
         "base": [
          "2023-04-15T01:21:22"
         ],
         "hovertemplate": "window_id=%{y}<br>window_start=%{base}<br>window_end=%{x}<extra></extra>",
         "legendgroup": "420952",
         "marker": {
          "color": "#FFA15A",
          "pattern": {
           "shape": ""
          }
         },
         "name": "420952",
         "orientation": "h",
         "showlegend": true,
         "textposition": "auto",
         "type": "bar",
         "x": {
          "bdata": "QAhsAA==",
          "dtype": "i4"
         },
         "xaxis": "x",
         "y": {
          "bdata": "WGwGAA==",
          "dtype": "i4"
         },
         "yaxis": "y"
        },
        {
         "base": [
          "2023-04-15T01:23:22"
         ],
         "hovertemplate": "window_id=%{y}<br>window_start=%{base}<br>window_end=%{x}<extra></extra>",
         "legendgroup": "420953",
         "marker": {
          "color": "#19d3f3",
          "pattern": {
           "shape": ""
          }
         },
         "name": "420953",
         "orientation": "h",
         "showlegend": true,
         "textposition": "auto",
         "type": "bar",
         "x": {
          "bdata": "QAhsAA==",
          "dtype": "i4"
         },
         "xaxis": "x",
         "y": {
          "bdata": "WWwGAA==",
          "dtype": "i4"
         },
         "yaxis": "y"
        },
        {
         "base": [
          "2023-04-15T01:25:22"
         ],
         "hovertemplate": "window_id=%{y}<br>window_start=%{base}<br>window_end=%{x}<extra></extra>",
         "legendgroup": "420954",
         "marker": {
          "color": "#FF6692",
          "pattern": {
           "shape": ""
          }
         },
         "name": "420954",
         "orientation": "h",
         "showlegend": true,
         "textposition": "auto",
         "type": "bar",
         "x": {
          "bdata": "QAhsAA==",
          "dtype": "i4"
         },
         "xaxis": "x",
         "y": {
          "bdata": "WmwGAA==",
          "dtype": "i4"
         },
         "yaxis": "y"
        },
        {
         "base": [
          "2023-04-15T01:27:22"
         ],
         "hovertemplate": "window_id=%{y}<br>window_start=%{base}<br>window_end=%{x}<extra></extra>",
         "legendgroup": "420955",
         "marker": {
          "color": "#B6E880",
          "pattern": {
           "shape": ""
          }
         },
         "name": "420955",
         "orientation": "h",
         "showlegend": true,
         "textposition": "auto",
         "type": "bar",
         "x": {
          "bdata": "QAhsAA==",
          "dtype": "i4"
         },
         "xaxis": "x",
         "y": {
          "bdata": "W2wGAA==",
          "dtype": "i4"
         },
         "yaxis": "y"
        },
        {
         "base": [
          "2023-04-15T01:29:22"
         ],
         "hovertemplate": "window_id=%{y}<br>window_start=%{base}<br>window_end=%{x}<extra></extra>",
         "legendgroup": "420956",
         "marker": {
          "color": "#FF97FF",
          "pattern": {
           "shape": ""
          }
         },
         "name": "420956",
         "orientation": "h",
         "showlegend": true,
         "textposition": "auto",
         "type": "bar",
         "x": {
          "bdata": "QAhsAA==",
          "dtype": "i4"
         },
         "xaxis": "x",
         "y": {
          "bdata": "XGwGAA==",
          "dtype": "i4"
         },
         "yaxis": "y"
        },
        {
         "base": [
          "2023-04-15T01:31:22"
         ],
         "hovertemplate": "window_id=%{y}<br>window_start=%{base}<br>window_end=%{x}<extra></extra>",
         "legendgroup": "420957",
         "marker": {
          "color": "#FECB52",
          "pattern": {
           "shape": ""
          }
         },
         "name": "420957",
         "orientation": "h",
         "showlegend": true,
         "textposition": "auto",
         "type": "bar",
         "x": {
          "bdata": "QAhsAA==",
          "dtype": "i4"
         },
         "xaxis": "x",
         "y": {
          "bdata": "XWwGAA==",
          "dtype": "i4"
         },
         "yaxis": "y"
        },
        {
         "base": [
          "2023-04-15T01:33:22"
         ],
         "hovertemplate": "window_id=%{y}<br>window_start=%{base}<br>window_end=%{x}<extra></extra>",
         "legendgroup": "420958",
         "marker": {
          "color": "#636efa",
          "pattern": {
           "shape": ""
          }
         },
         "name": "420958",
         "orientation": "h",
         "showlegend": true,
         "textposition": "auto",
         "type": "bar",
         "x": {
          "bdata": "QAhsAA==",
          "dtype": "i4"
         },
         "xaxis": "x",
         "y": {
          "bdata": "XmwGAA==",
          "dtype": "i4"
         },
         "yaxis": "y"
        },
        {
         "base": [
          "2023-04-15T01:35:22"
         ],
         "hovertemplate": "window_id=%{y}<br>window_start=%{base}<br>window_end=%{x}<extra></extra>",
         "legendgroup": "420959",
         "marker": {
          "color": "#EF553B",
          "pattern": {
           "shape": ""
          }
         },
         "name": "420959",
         "orientation": "h",
         "showlegend": true,
         "textposition": "auto",
         "type": "bar",
         "x": {
          "bdata": "QAhsAA==",
          "dtype": "i4"
         },
         "xaxis": "x",
         "y": {
          "bdata": "X2wGAA==",
          "dtype": "i4"
         },
         "yaxis": "y"
        },
        {
         "base": [
          "2023-04-15T01:37:22"
         ],
         "hovertemplate": "window_id=%{y}<br>window_start=%{base}<br>window_end=%{x}<extra></extra>",
         "legendgroup": "420960",
         "marker": {
          "color": "#00cc96",
          "pattern": {
           "shape": ""
          }
         },
         "name": "420960",
         "orientation": "h",
         "showlegend": true,
         "textposition": "auto",
         "type": "bar",
         "x": {
          "bdata": "QAhsAA==",
          "dtype": "i4"
         },
         "xaxis": "x",
         "y": {
          "bdata": "YGwGAA==",
          "dtype": "i4"
         },
         "yaxis": "y"
        },
        {
         "base": [
          "2023-04-15T01:39:22"
         ],
         "hovertemplate": "window_id=%{y}<br>window_start=%{base}<br>window_end=%{x}<extra></extra>",
         "legendgroup": "420961",
         "marker": {
          "color": "#ab63fa",
          "pattern": {
           "shape": ""
          }
         },
         "name": "420961",
         "orientation": "h",
         "showlegend": true,
         "textposition": "auto",
         "type": "bar",
         "x": {
          "bdata": "QAhsAA==",
          "dtype": "i4"
         },
         "xaxis": "x",
         "y": {
          "bdata": "YWwGAA==",
          "dtype": "i4"
         },
         "yaxis": "y"
        },
        {
         "base": [
          "2023-04-15T01:41:22"
         ],
         "hovertemplate": "window_id=%{y}<br>window_start=%{base}<br>window_end=%{x}<extra></extra>",
         "legendgroup": "420962",
         "marker": {
          "color": "#FFA15A",
          "pattern": {
           "shape": ""
          }
         },
         "name": "420962",
         "orientation": "h",
         "showlegend": true,
         "textposition": "auto",
         "type": "bar",
         "x": {
          "bdata": "QAhsAA==",
          "dtype": "i4"
         },
         "xaxis": "x",
         "y": {
          "bdata": "YmwGAA==",
          "dtype": "i4"
         },
         "yaxis": "y"
        },
        {
         "base": [
          "2023-04-15T01:43:22"
         ],
         "hovertemplate": "window_id=%{y}<br>window_start=%{base}<br>window_end=%{x}<extra></extra>",
         "legendgroup": "420963",
         "marker": {
          "color": "#19d3f3",
          "pattern": {
           "shape": ""
          }
         },
         "name": "420963",
         "orientation": "h",
         "showlegend": true,
         "textposition": "auto",
         "type": "bar",
         "x": {
          "bdata": "QAhsAA==",
          "dtype": "i4"
         },
         "xaxis": "x",
         "y": {
          "bdata": "Y2wGAA==",
          "dtype": "i4"
         },
         "yaxis": "y"
        },
        {
         "base": [
          "2023-04-15T01:45:22"
         ],
         "hovertemplate": "window_id=%{y}<br>window_start=%{base}<br>window_end=%{x}<extra></extra>",
         "legendgroup": "420964",
         "marker": {
          "color": "#FF6692",
          "pattern": {
           "shape": ""
          }
         },
         "name": "420964",
         "orientation": "h",
         "showlegend": true,
         "textposition": "auto",
         "type": "bar",
         "x": {
          "bdata": "QAhsAA==",
          "dtype": "i4"
         },
         "xaxis": "x",
         "y": {
          "bdata": "ZGwGAA==",
          "dtype": "i4"
         },
         "yaxis": "y"
        },
        {
         "base": [
          "2023-04-15T01:47:22"
         ],
         "hovertemplate": "window_id=%{y}<br>window_start=%{base}<br>window_end=%{x}<extra></extra>",
         "legendgroup": "420965",
         "marker": {
          "color": "#B6E880",
          "pattern": {
           "shape": ""
          }
         },
         "name": "420965",
         "orientation": "h",
         "showlegend": true,
         "textposition": "auto",
         "type": "bar",
         "x": {
          "bdata": "QAhsAA==",
          "dtype": "i4"
         },
         "xaxis": "x",
         "y": {
          "bdata": "ZWwGAA==",
          "dtype": "i4"
         },
         "yaxis": "y"
        },
        {
         "base": [
          "2023-04-15T01:49:22"
         ],
         "hovertemplate": "window_id=%{y}<br>window_start=%{base}<br>window_end=%{x}<extra></extra>",
         "legendgroup": "420966",
         "marker": {
          "color": "#FF97FF",
          "pattern": {
           "shape": ""
          }
         },
         "name": "420966",
         "orientation": "h",
         "showlegend": true,
         "textposition": "auto",
         "type": "bar",
         "x": {
          "bdata": "QAhsAA==",
          "dtype": "i4"
         },
         "xaxis": "x",
         "y": {
          "bdata": "ZmwGAA==",
          "dtype": "i4"
         },
         "yaxis": "y"
        },
        {
         "base": [
          "2023-04-15T01:51:22"
         ],
         "hovertemplate": "window_id=%{y}<br>window_start=%{base}<br>window_end=%{x}<extra></extra>",
         "legendgroup": "420967",
         "marker": {
          "color": "#FECB52",
          "pattern": {
           "shape": ""
          }
         },
         "name": "420967",
         "orientation": "h",
         "showlegend": true,
         "textposition": "auto",
         "type": "bar",
         "x": {
          "bdata": "QAhsAA==",
          "dtype": "i4"
         },
         "xaxis": "x",
         "y": {
          "bdata": "Z2wGAA==",
          "dtype": "i4"
         },
         "yaxis": "y"
        },
        {
         "base": [
          "2023-04-15T01:53:22"
         ],
         "hovertemplate": "window_id=%{y}<br>window_start=%{base}<br>window_end=%{x}<extra></extra>",
         "legendgroup": "420968",
         "marker": {
          "color": "#636efa",
          "pattern": {
           "shape": ""
          }
         },
         "name": "420968",
         "orientation": "h",
         "showlegend": true,
         "textposition": "auto",
         "type": "bar",
         "x": {
          "bdata": "QAhsAA==",
          "dtype": "i4"
         },
         "xaxis": "x",
         "y": {
          "bdata": "aGwGAA==",
          "dtype": "i4"
         },
         "yaxis": "y"
        },
        {
         "base": [
          "2023-04-15T01:55:22"
         ],
         "hovertemplate": "window_id=%{y}<br>window_start=%{base}<br>window_end=%{x}<extra></extra>",
         "legendgroup": "420969",
         "marker": {
          "color": "#EF553B",
          "pattern": {
           "shape": ""
          }
         },
         "name": "420969",
         "orientation": "h",
         "showlegend": true,
         "textposition": "auto",
         "type": "bar",
         "x": {
          "bdata": "QAhsAA==",
          "dtype": "i4"
         },
         "xaxis": "x",
         "y": {
          "bdata": "aWwGAA==",
          "dtype": "i4"
         },
         "yaxis": "y"
        },
        {
         "base": [
          "2023-04-15T01:57:22"
         ],
         "hovertemplate": "window_id=%{y}<br>window_start=%{base}<br>window_end=%{x}<extra></extra>",
         "legendgroup": "420970",
         "marker": {
          "color": "#00cc96",
          "pattern": {
           "shape": ""
          }
         },
         "name": "420970",
         "orientation": "h",
         "showlegend": true,
         "textposition": "auto",
         "type": "bar",
         "x": {
          "bdata": "QAhsAA==",
          "dtype": "i4"
         },
         "xaxis": "x",
         "y": {
          "bdata": "amwGAA==",
          "dtype": "i4"
         },
         "yaxis": "y"
        },
        {
         "base": [
          "2023-04-15T01:59:22"
         ],
         "hovertemplate": "window_id=%{y}<br>window_start=%{base}<br>window_end=%{x}<extra></extra>",
         "legendgroup": "420971",
         "marker": {
          "color": "#ab63fa",
          "pattern": {
           "shape": ""
          }
         },
         "name": "420971",
         "orientation": "h",
         "showlegend": true,
         "textposition": "auto",
         "type": "bar",
         "x": {
          "bdata": "QAhsAA==",
          "dtype": "i4"
         },
         "xaxis": "x",
         "y": {
          "bdata": "a2wGAA==",
          "dtype": "i4"
         },
         "yaxis": "y"
        },
        {
         "base": [
          "2023-04-15T02:01:22"
         ],
         "hovertemplate": "window_id=%{y}<br>window_start=%{base}<br>window_end=%{x}<extra></extra>",
         "legendgroup": "420972",
         "marker": {
          "color": "#FFA15A",
          "pattern": {
           "shape": ""
          }
         },
         "name": "420972",
         "orientation": "h",
         "showlegend": true,
         "textposition": "auto",
         "type": "bar",
         "x": {
          "bdata": "QAhsAA==",
          "dtype": "i4"
         },
         "xaxis": "x",
         "y": {
          "bdata": "bGwGAA==",
          "dtype": "i4"
         },
         "yaxis": "y"
        },
        {
         "base": [
          "2023-04-15T02:03:22"
         ],
         "hovertemplate": "window_id=%{y}<br>window_start=%{base}<br>window_end=%{x}<extra></extra>",
         "legendgroup": "420973",
         "marker": {
          "color": "#19d3f3",
          "pattern": {
           "shape": ""
          }
         },
         "name": "420973",
         "orientation": "h",
         "showlegend": true,
         "textposition": "auto",
         "type": "bar",
         "x": {
          "bdata": "QAhsAA==",
          "dtype": "i4"
         },
         "xaxis": "x",
         "y": {
          "bdata": "bWwGAA==",
          "dtype": "i4"
         },
         "yaxis": "y"
        },
        {
         "base": [
          "2023-04-15T02:05:22"
         ],
         "hovertemplate": "window_id=%{y}<br>window_start=%{base}<br>window_end=%{x}<extra></extra>",
         "legendgroup": "420974",
         "marker": {
          "color": "#FF6692",
          "pattern": {
           "shape": ""
          }
         },
         "name": "420974",
         "orientation": "h",
         "showlegend": true,
         "textposition": "auto",
         "type": "bar",
         "x": {
          "bdata": "QAhsAA==",
          "dtype": "i4"
         },
         "xaxis": "x",
         "y": {
          "bdata": "bmwGAA==",
          "dtype": "i4"
         },
         "yaxis": "y"
        },
        {
         "base": [
          "2023-04-15T02:07:22"
         ],
         "hovertemplate": "window_id=%{y}<br>window_start=%{base}<br>window_end=%{x}<extra></extra>",
         "legendgroup": "420975",
         "marker": {
          "color": "#B6E880",
          "pattern": {
           "shape": ""
          }
         },
         "name": "420975",
         "orientation": "h",
         "showlegend": true,
         "textposition": "auto",
         "type": "bar",
         "x": {
          "bdata": "QAhsAA==",
          "dtype": "i4"
         },
         "xaxis": "x",
         "y": {
          "bdata": "b2wGAA==",
          "dtype": "i4"
         },
         "yaxis": "y"
        },
        {
         "base": [
          "2023-04-15T02:09:22"
         ],
         "hovertemplate": "window_id=%{y}<br>window_start=%{base}<br>window_end=%{x}<extra></extra>",
         "legendgroup": "420976",
         "marker": {
          "color": "#FF97FF",
          "pattern": {
           "shape": ""
          }
         },
         "name": "420976",
         "orientation": "h",
         "showlegend": true,
         "textposition": "auto",
         "type": "bar",
         "x": {
          "bdata": "QAhsAA==",
          "dtype": "i4"
         },
         "xaxis": "x",
         "y": {
          "bdata": "cGwGAA==",
          "dtype": "i4"
         },
         "yaxis": "y"
        },
        {
         "base": [
          "2023-04-15T02:11:22"
         ],
         "hovertemplate": "window_id=%{y}<br>window_start=%{base}<br>window_end=%{x}<extra></extra>",
         "legendgroup": "420977",
         "marker": {
          "color": "#FECB52",
          "pattern": {
           "shape": ""
          }
         },
         "name": "420977",
         "orientation": "h",
         "showlegend": true,
         "textposition": "auto",
         "type": "bar",
         "x": {
          "bdata": "QAhsAA==",
          "dtype": "i4"
         },
         "xaxis": "x",
         "y": {
          "bdata": "cWwGAA==",
          "dtype": "i4"
         },
         "yaxis": "y"
        },
        {
         "base": [
          "2023-04-15T02:13:22"
         ],
         "hovertemplate": "window_id=%{y}<br>window_start=%{base}<br>window_end=%{x}<extra></extra>",
         "legendgroup": "420978",
         "marker": {
          "color": "#636efa",
          "pattern": {
           "shape": ""
          }
         },
         "name": "420978",
         "orientation": "h",
         "showlegend": true,
         "textposition": "auto",
         "type": "bar",
         "x": {
          "bdata": "QAhsAA==",
          "dtype": "i4"
         },
         "xaxis": "x",
         "y": {
          "bdata": "cmwGAA==",
          "dtype": "i4"
         },
         "yaxis": "y"
        },
        {
         "base": [
          "2023-04-15T02:15:22"
         ],
         "hovertemplate": "window_id=%{y}<br>window_start=%{base}<br>window_end=%{x}<extra></extra>",
         "legendgroup": "420979",
         "marker": {
          "color": "#EF553B",
          "pattern": {
           "shape": ""
          }
         },
         "name": "420979",
         "orientation": "h",
         "showlegend": true,
         "textposition": "auto",
         "type": "bar",
         "x": {
          "bdata": "QAhsAA==",
          "dtype": "i4"
         },
         "xaxis": "x",
         "y": {
          "bdata": "c2wGAA==",
          "dtype": "i4"
         },
         "yaxis": "y"
        },
        {
         "base": [
          "2023-04-15T02:17:22"
         ],
         "hovertemplate": "window_id=%{y}<br>window_start=%{base}<br>window_end=%{x}<extra></extra>",
         "legendgroup": "420980",
         "marker": {
          "color": "#00cc96",
          "pattern": {
           "shape": ""
          }
         },
         "name": "420980",
         "orientation": "h",
         "showlegend": true,
         "textposition": "auto",
         "type": "bar",
         "x": {
          "bdata": "QAhsAA==",
          "dtype": "i4"
         },
         "xaxis": "x",
         "y": {
          "bdata": "dGwGAA==",
          "dtype": "i4"
         },
         "yaxis": "y"
        },
        {
         "base": [
          "2023-04-15T02:19:22"
         ],
         "hovertemplate": "window_id=%{y}<br>window_start=%{base}<br>window_end=%{x}<extra></extra>",
         "legendgroup": "420981",
         "marker": {
          "color": "#ab63fa",
          "pattern": {
           "shape": ""
          }
         },
         "name": "420981",
         "orientation": "h",
         "showlegend": true,
         "textposition": "auto",
         "type": "bar",
         "x": {
          "bdata": "QAhsAA==",
          "dtype": "i4"
         },
         "xaxis": "x",
         "y": {
          "bdata": "dWwGAA==",
          "dtype": "i4"
         },
         "yaxis": "y"
        },
        {
         "base": [
          "2023-04-15T02:21:22"
         ],
         "hovertemplate": "window_id=%{y}<br>window_start=%{base}<br>window_end=%{x}<extra></extra>",
         "legendgroup": "420982",
         "marker": {
          "color": "#FFA15A",
          "pattern": {
           "shape": ""
          }
         },
         "name": "420982",
         "orientation": "h",
         "showlegend": true,
         "textposition": "auto",
         "type": "bar",
         "x": {
          "bdata": "QAhsAA==",
          "dtype": "i4"
         },
         "xaxis": "x",
         "y": {
          "bdata": "dmwGAA==",
          "dtype": "i4"
         },
         "yaxis": "y"
        },
        {
         "base": [
          "2023-04-15T02:23:22"
         ],
         "hovertemplate": "window_id=%{y}<br>window_start=%{base}<br>window_end=%{x}<extra></extra>",
         "legendgroup": "420983",
         "marker": {
          "color": "#19d3f3",
          "pattern": {
           "shape": ""
          }
         },
         "name": "420983",
         "orientation": "h",
         "showlegend": true,
         "textposition": "auto",
         "type": "bar",
         "x": {
          "bdata": "QAhsAA==",
          "dtype": "i4"
         },
         "xaxis": "x",
         "y": {
          "bdata": "d2wGAA==",
          "dtype": "i4"
         },
         "yaxis": "y"
        },
        {
         "base": [
          "2023-04-15T02:25:22"
         ],
         "hovertemplate": "window_id=%{y}<br>window_start=%{base}<br>window_end=%{x}<extra></extra>",
         "legendgroup": "420984",
         "marker": {
          "color": "#FF6692",
          "pattern": {
           "shape": ""
          }
         },
         "name": "420984",
         "orientation": "h",
         "showlegend": true,
         "textposition": "auto",
         "type": "bar",
         "x": {
          "bdata": "QAhsAA==",
          "dtype": "i4"
         },
         "xaxis": "x",
         "y": {
          "bdata": "eGwGAA==",
          "dtype": "i4"
         },
         "yaxis": "y"
        },
        {
         "base": [
          "2023-04-15T02:27:22"
         ],
         "hovertemplate": "window_id=%{y}<br>window_start=%{base}<br>window_end=%{x}<extra></extra>",
         "legendgroup": "420985",
         "marker": {
          "color": "#B6E880",
          "pattern": {
           "shape": ""
          }
         },
         "name": "420985",
         "orientation": "h",
         "showlegend": true,
         "textposition": "auto",
         "type": "bar",
         "x": {
          "bdata": "QAhsAA==",
          "dtype": "i4"
         },
         "xaxis": "x",
         "y": {
          "bdata": "eWwGAA==",
          "dtype": "i4"
         },
         "yaxis": "y"
        },
        {
         "base": [
          "2023-04-15T02:29:22"
         ],
         "hovertemplate": "window_id=%{y}<br>window_start=%{base}<br>window_end=%{x}<extra></extra>",
         "legendgroup": "420986",
         "marker": {
          "color": "#FF97FF",
          "pattern": {
           "shape": ""
          }
         },
         "name": "420986",
         "orientation": "h",
         "showlegend": true,
         "textposition": "auto",
         "type": "bar",
         "x": {
          "bdata": "QAhsAA==",
          "dtype": "i4"
         },
         "xaxis": "x",
         "y": {
          "bdata": "emwGAA==",
          "dtype": "i4"
         },
         "yaxis": "y"
        },
        {
         "base": [
          "2023-04-15T02:31:22"
         ],
         "hovertemplate": "window_id=%{y}<br>window_start=%{base}<br>window_end=%{x}<extra></extra>",
         "legendgroup": "420987",
         "marker": {
          "color": "#FECB52",
          "pattern": {
           "shape": ""
          }
         },
         "name": "420987",
         "orientation": "h",
         "showlegend": true,
         "textposition": "auto",
         "type": "bar",
         "x": {
          "bdata": "QAhsAA==",
          "dtype": "i4"
         },
         "xaxis": "x",
         "y": {
          "bdata": "e2wGAA==",
          "dtype": "i4"
         },
         "yaxis": "y"
        },
        {
         "base": [
          "2023-04-15T02:33:22"
         ],
         "hovertemplate": "window_id=%{y}<br>window_start=%{base}<br>window_end=%{x}<extra></extra>",
         "legendgroup": "420988",
         "marker": {
          "color": "#636efa",
          "pattern": {
           "shape": ""
          }
         },
         "name": "420988",
         "orientation": "h",
         "showlegend": true,
         "textposition": "auto",
         "type": "bar",
         "x": {
          "bdata": "QAhsAA==",
          "dtype": "i4"
         },
         "xaxis": "x",
         "y": {
          "bdata": "fGwGAA==",
          "dtype": "i4"
         },
         "yaxis": "y"
        },
        {
         "base": [
          "2023-04-15T02:35:22"
         ],
         "hovertemplate": "window_id=%{y}<br>window_start=%{base}<br>window_end=%{x}<extra></extra>",
         "legendgroup": "420989",
         "marker": {
          "color": "#EF553B",
          "pattern": {
           "shape": ""
          }
         },
         "name": "420989",
         "orientation": "h",
         "showlegend": true,
         "textposition": "auto",
         "type": "bar",
         "x": {
          "bdata": "QAhsAA==",
          "dtype": "i4"
         },
         "xaxis": "x",
         "y": {
          "bdata": "fWwGAA==",
          "dtype": "i4"
         },
         "yaxis": "y"
        },
        {
         "base": [
          "2023-04-15T02:37:22"
         ],
         "hovertemplate": "window_id=%{y}<br>window_start=%{base}<br>window_end=%{x}<extra></extra>",
         "legendgroup": "420990",
         "marker": {
          "color": "#00cc96",
          "pattern": {
           "shape": ""
          }
         },
         "name": "420990",
         "orientation": "h",
         "showlegend": true,
         "textposition": "auto",
         "type": "bar",
         "x": {
          "bdata": "QAhsAA==",
          "dtype": "i4"
         },
         "xaxis": "x",
         "y": {
          "bdata": "fmwGAA==",
          "dtype": "i4"
         },
         "yaxis": "y"
        },
        {
         "base": [
          "2023-04-15T02:39:22"
         ],
         "hovertemplate": "window_id=%{y}<br>window_start=%{base}<br>window_end=%{x}<extra></extra>",
         "legendgroup": "420991",
         "marker": {
          "color": "#ab63fa",
          "pattern": {
           "shape": ""
          }
         },
         "name": "420991",
         "orientation": "h",
         "showlegend": true,
         "textposition": "auto",
         "type": "bar",
         "x": {
          "bdata": "QAhsAA==",
          "dtype": "i4"
         },
         "xaxis": "x",
         "y": {
          "bdata": "f2wGAA==",
          "dtype": "i4"
         },
         "yaxis": "y"
        },
        {
         "base": [
          "2023-04-15T02:41:22"
         ],
         "hovertemplate": "window_id=%{y}<br>window_start=%{base}<br>window_end=%{x}<extra></extra>",
         "legendgroup": "420992",
         "marker": {
          "color": "#FFA15A",
          "pattern": {
           "shape": ""
          }
         },
         "name": "420992",
         "orientation": "h",
         "showlegend": true,
         "textposition": "auto",
         "type": "bar",
         "x": {
          "bdata": "QAhsAA==",
          "dtype": "i4"
         },
         "xaxis": "x",
         "y": {
          "bdata": "gGwGAA==",
          "dtype": "i4"
         },
         "yaxis": "y"
        },
        {
         "base": [
          "2023-04-15T02:43:22"
         ],
         "hovertemplate": "window_id=%{y}<br>window_start=%{base}<br>window_end=%{x}<extra></extra>",
         "legendgroup": "420993",
         "marker": {
          "color": "#19d3f3",
          "pattern": {
           "shape": ""
          }
         },
         "name": "420993",
         "orientation": "h",
         "showlegend": true,
         "textposition": "auto",
         "type": "bar",
         "x": {
          "bdata": "QAhsAA==",
          "dtype": "i4"
         },
         "xaxis": "x",
         "y": {
          "bdata": "gWwGAA==",
          "dtype": "i4"
         },
         "yaxis": "y"
        },
        {
         "base": [
          "2023-04-15T02:45:22"
         ],
         "hovertemplate": "window_id=%{y}<br>window_start=%{base}<br>window_end=%{x}<extra></extra>",
         "legendgroup": "420994",
         "marker": {
          "color": "#FF6692",
          "pattern": {
           "shape": ""
          }
         },
         "name": "420994",
         "orientation": "h",
         "showlegend": true,
         "textposition": "auto",
         "type": "bar",
         "x": {
          "bdata": "QAhsAA==",
          "dtype": "i4"
         },
         "xaxis": "x",
         "y": {
          "bdata": "gmwGAA==",
          "dtype": "i4"
         },
         "yaxis": "y"
        },
        {
         "base": [
          "2023-04-15T02:47:22"
         ],
         "hovertemplate": "window_id=%{y}<br>window_start=%{base}<br>window_end=%{x}<extra></extra>",
         "legendgroup": "420995",
         "marker": {
          "color": "#B6E880",
          "pattern": {
           "shape": ""
          }
         },
         "name": "420995",
         "orientation": "h",
         "showlegend": true,
         "textposition": "auto",
         "type": "bar",
         "x": {
          "bdata": "QAhsAA==",
          "dtype": "i4"
         },
         "xaxis": "x",
         "y": {
          "bdata": "g2wGAA==",
          "dtype": "i4"
         },
         "yaxis": "y"
        },
        {
         "base": [
          "2023-04-15T02:49:22"
         ],
         "hovertemplate": "window_id=%{y}<br>window_start=%{base}<br>window_end=%{x}<extra></extra>",
         "legendgroup": "420996",
         "marker": {
          "color": "#FF97FF",
          "pattern": {
           "shape": ""
          }
         },
         "name": "420996",
         "orientation": "h",
         "showlegend": true,
         "textposition": "auto",
         "type": "bar",
         "x": {
          "bdata": "QAhsAA==",
          "dtype": "i4"
         },
         "xaxis": "x",
         "y": {
          "bdata": "hGwGAA==",
          "dtype": "i4"
         },
         "yaxis": "y"
        },
        {
         "base": [
          "2023-04-15T02:51:22"
         ],
         "hovertemplate": "window_id=%{y}<br>window_start=%{base}<br>window_end=%{x}<extra></extra>",
         "legendgroup": "420997",
         "marker": {
          "color": "#FECB52",
          "pattern": {
           "shape": ""
          }
         },
         "name": "420997",
         "orientation": "h",
         "showlegend": true,
         "textposition": "auto",
         "type": "bar",
         "x": {
          "bdata": "QAhsAA==",
          "dtype": "i4"
         },
         "xaxis": "x",
         "y": {
          "bdata": "hWwGAA==",
          "dtype": "i4"
         },
         "yaxis": "y"
        },
        {
         "base": [
          "2023-04-15T02:53:22"
         ],
         "hovertemplate": "window_id=%{y}<br>window_start=%{base}<br>window_end=%{x}<extra></extra>",
         "legendgroup": "420998",
         "marker": {
          "color": "#636efa",
          "pattern": {
           "shape": ""
          }
         },
         "name": "420998",
         "orientation": "h",
         "showlegend": true,
         "textposition": "auto",
         "type": "bar",
         "x": {
          "bdata": "QAhsAA==",
          "dtype": "i4"
         },
         "xaxis": "x",
         "y": {
          "bdata": "hmwGAA==",
          "dtype": "i4"
         },
         "yaxis": "y"
        },
        {
         "base": [
          "2023-04-15T02:55:22"
         ],
         "hovertemplate": "window_id=%{y}<br>window_start=%{base}<br>window_end=%{x}<extra></extra>",
         "legendgroup": "420999",
         "marker": {
          "color": "#EF553B",
          "pattern": {
           "shape": ""
          }
         },
         "name": "420999",
         "orientation": "h",
         "showlegend": true,
         "textposition": "auto",
         "type": "bar",
         "x": {
          "bdata": "QAhsAA==",
          "dtype": "i4"
         },
         "xaxis": "x",
         "y": {
          "bdata": "h2wGAA==",
          "dtype": "i4"
         },
         "yaxis": "y"
        },
        {
         "base": [
          "2023-04-15T02:57:22"
         ],
         "hovertemplate": "window_id=%{y}<br>window_start=%{base}<br>window_end=%{x}<extra></extra>",
         "legendgroup": "421000",
         "marker": {
          "color": "#00cc96",
          "pattern": {
           "shape": ""
          }
         },
         "name": "421000",
         "orientation": "h",
         "showlegend": true,
         "textposition": "auto",
         "type": "bar",
         "x": {
          "bdata": "QAhsAA==",
          "dtype": "i4"
         },
         "xaxis": "x",
         "y": {
          "bdata": "iGwGAA==",
          "dtype": "i4"
         },
         "yaxis": "y"
        },
        {
         "base": [
          "2023-04-15T02:59:22"
         ],
         "hovertemplate": "window_id=%{y}<br>window_start=%{base}<br>window_end=%{x}<extra></extra>",
         "legendgroup": "421001",
         "marker": {
          "color": "#ab63fa",
          "pattern": {
           "shape": ""
          }
         },
         "name": "421001",
         "orientation": "h",
         "showlegend": true,
         "textposition": "auto",
         "type": "bar",
         "x": {
          "bdata": "QAhsAA==",
          "dtype": "i4"
         },
         "xaxis": "x",
         "y": {
          "bdata": "iWwGAA==",
          "dtype": "i4"
         },
         "yaxis": "y"
        },
        {
         "base": [
          "2023-04-15T03:01:22"
         ],
         "hovertemplate": "window_id=%{y}<br>window_start=%{base}<br>window_end=%{x}<extra></extra>",
         "legendgroup": "421002",
         "marker": {
          "color": "#FFA15A",
          "pattern": {
           "shape": ""
          }
         },
         "name": "421002",
         "orientation": "h",
         "showlegend": true,
         "textposition": "auto",
         "type": "bar",
         "x": {
          "bdata": "QAhsAA==",
          "dtype": "i4"
         },
         "xaxis": "x",
         "y": {
          "bdata": "imwGAA==",
          "dtype": "i4"
         },
         "yaxis": "y"
        },
        {
         "base": [
          "2023-04-15T03:03:22"
         ],
         "hovertemplate": "window_id=%{y}<br>window_start=%{base}<br>window_end=%{x}<extra></extra>",
         "legendgroup": "421003",
         "marker": {
          "color": "#19d3f3",
          "pattern": {
           "shape": ""
          }
         },
         "name": "421003",
         "orientation": "h",
         "showlegend": true,
         "textposition": "auto",
         "type": "bar",
         "x": {
          "bdata": "QAhsAA==",
          "dtype": "i4"
         },
         "xaxis": "x",
         "y": {
          "bdata": "i2wGAA==",
          "dtype": "i4"
         },
         "yaxis": "y"
        },
        {
         "base": [
          "2023-04-15T03:05:22"
         ],
         "hovertemplate": "window_id=%{y}<br>window_start=%{base}<br>window_end=%{x}<extra></extra>",
         "legendgroup": "421004",
         "marker": {
          "color": "#FF6692",
          "pattern": {
           "shape": ""
          }
         },
         "name": "421004",
         "orientation": "h",
         "showlegend": true,
         "textposition": "auto",
         "type": "bar",
         "x": {
          "bdata": "QAhsAA==",
          "dtype": "i4"
         },
         "xaxis": "x",
         "y": {
          "bdata": "jGwGAA==",
          "dtype": "i4"
         },
         "yaxis": "y"
        },
        {
         "base": [
          "2023-04-15T03:07:22"
         ],
         "hovertemplate": "window_id=%{y}<br>window_start=%{base}<br>window_end=%{x}<extra></extra>",
         "legendgroup": "421005",
         "marker": {
          "color": "#B6E880",
          "pattern": {
           "shape": ""
          }
         },
         "name": "421005",
         "orientation": "h",
         "showlegend": true,
         "textposition": "auto",
         "type": "bar",
         "x": {
          "bdata": "QAhsAA==",
          "dtype": "i4"
         },
         "xaxis": "x",
         "y": {
          "bdata": "jWwGAA==",
          "dtype": "i4"
         },
         "yaxis": "y"
        },
        {
         "base": [
          "2023-04-15T03:09:22"
         ],
         "hovertemplate": "window_id=%{y}<br>window_start=%{base}<br>window_end=%{x}<extra></extra>",
         "legendgroup": "421006",
         "marker": {
          "color": "#FF97FF",
          "pattern": {
           "shape": ""
          }
         },
         "name": "421006",
         "orientation": "h",
         "showlegend": true,
         "textposition": "auto",
         "type": "bar",
         "x": {
          "bdata": "QAhsAA==",
          "dtype": "i4"
         },
         "xaxis": "x",
         "y": {
          "bdata": "jmwGAA==",
          "dtype": "i4"
         },
         "yaxis": "y"
        },
        {
         "base": [
          "2023-04-15T03:11:22"
         ],
         "hovertemplate": "window_id=%{y}<br>window_start=%{base}<br>window_end=%{x}<extra></extra>",
         "legendgroup": "421007",
         "marker": {
          "color": "#FECB52",
          "pattern": {
           "shape": ""
          }
         },
         "name": "421007",
         "orientation": "h",
         "showlegend": true,
         "textposition": "auto",
         "type": "bar",
         "x": {
          "bdata": "QAhsAA==",
          "dtype": "i4"
         },
         "xaxis": "x",
         "y": {
          "bdata": "j2wGAA==",
          "dtype": "i4"
         },
         "yaxis": "y"
        },
        {
         "base": [
          "2023-04-15T03:13:22"
         ],
         "hovertemplate": "window_id=%{y}<br>window_start=%{base}<br>window_end=%{x}<extra></extra>",
         "legendgroup": "421008",
         "marker": {
          "color": "#636efa",
          "pattern": {
           "shape": ""
          }
         },
         "name": "421008",
         "orientation": "h",
         "showlegend": true,
         "textposition": "auto",
         "type": "bar",
         "x": {
          "bdata": "QAhsAA==",
          "dtype": "i4"
         },
         "xaxis": "x",
         "y": {
          "bdata": "kGwGAA==",
          "dtype": "i4"
         },
         "yaxis": "y"
        },
        {
         "base": [
          "2023-04-15T03:15:22"
         ],
         "hovertemplate": "window_id=%{y}<br>window_start=%{base}<br>window_end=%{x}<extra></extra>",
         "legendgroup": "421009",
         "marker": {
          "color": "#EF553B",
          "pattern": {
           "shape": ""
          }
         },
         "name": "421009",
         "orientation": "h",
         "showlegend": true,
         "textposition": "auto",
         "type": "bar",
         "x": {
          "bdata": "QAhsAA==",
          "dtype": "i4"
         },
         "xaxis": "x",
         "y": {
          "bdata": "kWwGAA==",
          "dtype": "i4"
         },
         "yaxis": "y"
        },
        {
         "base": [
          "2023-04-15T03:17:22"
         ],
         "hovertemplate": "window_id=%{y}<br>window_start=%{base}<br>window_end=%{x}<extra></extra>",
         "legendgroup": "421010",
         "marker": {
          "color": "#00cc96",
          "pattern": {
           "shape": ""
          }
         },
         "name": "421010",
         "orientation": "h",
         "showlegend": true,
         "textposition": "auto",
         "type": "bar",
         "x": {
          "bdata": "QAhsAA==",
          "dtype": "i4"
         },
         "xaxis": "x",
         "y": {
          "bdata": "kmwGAA==",
          "dtype": "i4"
         },
         "yaxis": "y"
        },
        {
         "base": [
          "2023-04-15T03:19:22"
         ],
         "hovertemplate": "window_id=%{y}<br>window_start=%{base}<br>window_end=%{x}<extra></extra>",
         "legendgroup": "421011",
         "marker": {
          "color": "#ab63fa",
          "pattern": {
           "shape": ""
          }
         },
         "name": "421011",
         "orientation": "h",
         "showlegend": true,
         "textposition": "auto",
         "type": "bar",
         "x": {
          "bdata": "QAhsAA==",
          "dtype": "i4"
         },
         "xaxis": "x",
         "y": {
          "bdata": "k2wGAA==",
          "dtype": "i4"
         },
         "yaxis": "y"
        },
        {
         "base": [
          "2023-04-15T03:21:22"
         ],
         "hovertemplate": "window_id=%{y}<br>window_start=%{base}<br>window_end=%{x}<extra></extra>",
         "legendgroup": "421012",
         "marker": {
          "color": "#FFA15A",
          "pattern": {
           "shape": ""
          }
         },
         "name": "421012",
         "orientation": "h",
         "showlegend": true,
         "textposition": "auto",
         "type": "bar",
         "x": {
          "bdata": "QAhsAA==",
          "dtype": "i4"
         },
         "xaxis": "x",
         "y": {
          "bdata": "lGwGAA==",
          "dtype": "i4"
         },
         "yaxis": "y"
        },
        {
         "base": [
          "2023-04-15T03:23:22"
         ],
         "hovertemplate": "window_id=%{y}<br>window_start=%{base}<br>window_end=%{x}<extra></extra>",
         "legendgroup": "421013",
         "marker": {
          "color": "#19d3f3",
          "pattern": {
           "shape": ""
          }
         },
         "name": "421013",
         "orientation": "h",
         "showlegend": true,
         "textposition": "auto",
         "type": "bar",
         "x": {
          "bdata": "QAhsAA==",
          "dtype": "i4"
         },
         "xaxis": "x",
         "y": {
          "bdata": "lWwGAA==",
          "dtype": "i4"
         },
         "yaxis": "y"
        },
        {
         "base": [
          "2023-04-15T03:25:22"
         ],
         "hovertemplate": "window_id=%{y}<br>window_start=%{base}<br>window_end=%{x}<extra></extra>",
         "legendgroup": "421014",
         "marker": {
          "color": "#FF6692",
          "pattern": {
           "shape": ""
          }
         },
         "name": "421014",
         "orientation": "h",
         "showlegend": true,
         "textposition": "auto",
         "type": "bar",
         "x": {
          "bdata": "QAhsAA==",
          "dtype": "i4"
         },
         "xaxis": "x",
         "y": {
          "bdata": "lmwGAA==",
          "dtype": "i4"
         },
         "yaxis": "y"
        },
        {
         "base": [
          "2023-04-15T03:27:22"
         ],
         "hovertemplate": "window_id=%{y}<br>window_start=%{base}<br>window_end=%{x}<extra></extra>",
         "legendgroup": "421015",
         "marker": {
          "color": "#B6E880",
          "pattern": {
           "shape": ""
          }
         },
         "name": "421015",
         "orientation": "h",
         "showlegend": true,
         "textposition": "auto",
         "type": "bar",
         "x": {
          "bdata": "QAhsAA==",
          "dtype": "i4"
         },
         "xaxis": "x",
         "y": {
          "bdata": "l2wGAA==",
          "dtype": "i4"
         },
         "yaxis": "y"
        },
        {
         "base": [
          "2023-04-15T03:29:22"
         ],
         "hovertemplate": "window_id=%{y}<br>window_start=%{base}<br>window_end=%{x}<extra></extra>",
         "legendgroup": "421016",
         "marker": {
          "color": "#FF97FF",
          "pattern": {
           "shape": ""
          }
         },
         "name": "421016",
         "orientation": "h",
         "showlegend": true,
         "textposition": "auto",
         "type": "bar",
         "x": {
          "bdata": "QAhsAA==",
          "dtype": "i4"
         },
         "xaxis": "x",
         "y": {
          "bdata": "mGwGAA==",
          "dtype": "i4"
         },
         "yaxis": "y"
        },
        {
         "base": [
          "2023-04-15T03:31:22"
         ],
         "hovertemplate": "window_id=%{y}<br>window_start=%{base}<br>window_end=%{x}<extra></extra>",
         "legendgroup": "421017",
         "marker": {
          "color": "#FECB52",
          "pattern": {
           "shape": ""
          }
         },
         "name": "421017",
         "orientation": "h",
         "showlegend": true,
         "textposition": "auto",
         "type": "bar",
         "x": {
          "bdata": "QAhsAA==",
          "dtype": "i4"
         },
         "xaxis": "x",
         "y": {
          "bdata": "mWwGAA==",
          "dtype": "i4"
         },
         "yaxis": "y"
        },
        {
         "base": [
          "2023-04-15T03:33:22"
         ],
         "hovertemplate": "window_id=%{y}<br>window_start=%{base}<br>window_end=%{x}<extra></extra>",
         "legendgroup": "421018",
         "marker": {
          "color": "#636efa",
          "pattern": {
           "shape": ""
          }
         },
         "name": "421018",
         "orientation": "h",
         "showlegend": true,
         "textposition": "auto",
         "type": "bar",
         "x": {
          "bdata": "QAhsAA==",
          "dtype": "i4"
         },
         "xaxis": "x",
         "y": {
          "bdata": "mmwGAA==",
          "dtype": "i4"
         },
         "yaxis": "y"
        },
        {
         "base": [
          "2023-04-15T03:35:22"
         ],
         "hovertemplate": "window_id=%{y}<br>window_start=%{base}<br>window_end=%{x}<extra></extra>",
         "legendgroup": "421019",
         "marker": {
          "color": "#EF553B",
          "pattern": {
           "shape": ""
          }
         },
         "name": "421019",
         "orientation": "h",
         "showlegend": true,
         "textposition": "auto",
         "type": "bar",
         "x": {
          "bdata": "QAhsAA==",
          "dtype": "i4"
         },
         "xaxis": "x",
         "y": {
          "bdata": "m2wGAA==",
          "dtype": "i4"
         },
         "yaxis": "y"
        },
        {
         "base": [
          "2023-04-15T03:37:22"
         ],
         "hovertemplate": "window_id=%{y}<br>window_start=%{base}<br>window_end=%{x}<extra></extra>",
         "legendgroup": "421020",
         "marker": {
          "color": "#00cc96",
          "pattern": {
           "shape": ""
          }
         },
         "name": "421020",
         "orientation": "h",
         "showlegend": true,
         "textposition": "auto",
         "type": "bar",
         "x": {
          "bdata": "QAhsAA==",
          "dtype": "i4"
         },
         "xaxis": "x",
         "y": {
          "bdata": "nGwGAA==",
          "dtype": "i4"
         },
         "yaxis": "y"
        },
        {
         "base": [
          "2023-04-15T03:39:22"
         ],
         "hovertemplate": "window_id=%{y}<br>window_start=%{base}<br>window_end=%{x}<extra></extra>",
         "legendgroup": "421021",
         "marker": {
          "color": "#ab63fa",
          "pattern": {
           "shape": ""
          }
         },
         "name": "421021",
         "orientation": "h",
         "showlegend": true,
         "textposition": "auto",
         "type": "bar",
         "x": {
          "bdata": "QAhsAA==",
          "dtype": "i4"
         },
         "xaxis": "x",
         "y": {
          "bdata": "nWwGAA==",
          "dtype": "i4"
         },
         "yaxis": "y"
        },
        {
         "base": [
          "2023-04-15T03:41:22"
         ],
         "hovertemplate": "window_id=%{y}<br>window_start=%{base}<br>window_end=%{x}<extra></extra>",
         "legendgroup": "421022",
         "marker": {
          "color": "#FFA15A",
          "pattern": {
           "shape": ""
          }
         },
         "name": "421022",
         "orientation": "h",
         "showlegend": true,
         "textposition": "auto",
         "type": "bar",
         "x": {
          "bdata": "QAhsAA==",
          "dtype": "i4"
         },
         "xaxis": "x",
         "y": {
          "bdata": "nmwGAA==",
          "dtype": "i4"
         },
         "yaxis": "y"
        },
        {
         "base": [
          "2023-04-15T03:43:22"
         ],
         "hovertemplate": "window_id=%{y}<br>window_start=%{base}<br>window_end=%{x}<extra></extra>",
         "legendgroup": "421023",
         "marker": {
          "color": "#19d3f3",
          "pattern": {
           "shape": ""
          }
         },
         "name": "421023",
         "orientation": "h",
         "showlegend": true,
         "textposition": "auto",
         "type": "bar",
         "x": {
          "bdata": "QAhsAA==",
          "dtype": "i4"
         },
         "xaxis": "x",
         "y": {
          "bdata": "n2wGAA==",
          "dtype": "i4"
         },
         "yaxis": "y"
        },
        {
         "base": [
          "2023-04-15T03:45:22"
         ],
         "hovertemplate": "window_id=%{y}<br>window_start=%{base}<br>window_end=%{x}<extra></extra>",
         "legendgroup": "421024",
         "marker": {
          "color": "#FF6692",
          "pattern": {
           "shape": ""
          }
         },
         "name": "421024",
         "orientation": "h",
         "showlegend": true,
         "textposition": "auto",
         "type": "bar",
         "x": {
          "bdata": "QAhsAA==",
          "dtype": "i4"
         },
         "xaxis": "x",
         "y": {
          "bdata": "oGwGAA==",
          "dtype": "i4"
         },
         "yaxis": "y"
        },
        {
         "base": [
          "2023-04-15T03:47:22"
         ],
         "hovertemplate": "window_id=%{y}<br>window_start=%{base}<br>window_end=%{x}<extra></extra>",
         "legendgroup": "421025",
         "marker": {
          "color": "#B6E880",
          "pattern": {
           "shape": ""
          }
         },
         "name": "421025",
         "orientation": "h",
         "showlegend": true,
         "textposition": "auto",
         "type": "bar",
         "x": {
          "bdata": "QAhsAA==",
          "dtype": "i4"
         },
         "xaxis": "x",
         "y": {
          "bdata": "oWwGAA==",
          "dtype": "i4"
         },
         "yaxis": "y"
        },
        {
         "base": [
          "2023-04-15T03:49:22"
         ],
         "hovertemplate": "window_id=%{y}<br>window_start=%{base}<br>window_end=%{x}<extra></extra>",
         "legendgroup": "421026",
         "marker": {
          "color": "#FF97FF",
          "pattern": {
           "shape": ""
          }
         },
         "name": "421026",
         "orientation": "h",
         "showlegend": true,
         "textposition": "auto",
         "type": "bar",
         "x": {
          "bdata": "QAhsAA==",
          "dtype": "i4"
         },
         "xaxis": "x",
         "y": {
          "bdata": "omwGAA==",
          "dtype": "i4"
         },
         "yaxis": "y"
        },
        {
         "base": [
          "2023-04-15T03:51:22"
         ],
         "hovertemplate": "window_id=%{y}<br>window_start=%{base}<br>window_end=%{x}<extra></extra>",
         "legendgroup": "421027",
         "marker": {
          "color": "#FECB52",
          "pattern": {
           "shape": ""
          }
         },
         "name": "421027",
         "orientation": "h",
         "showlegend": true,
         "textposition": "auto",
         "type": "bar",
         "x": {
          "bdata": "QAhsAA==",
          "dtype": "i4"
         },
         "xaxis": "x",
         "y": {
          "bdata": "o2wGAA==",
          "dtype": "i4"
         },
         "yaxis": "y"
        },
        {
         "base": [
          "2023-04-15T03:53:22"
         ],
         "hovertemplate": "window_id=%{y}<br>window_start=%{base}<br>window_end=%{x}<extra></extra>",
         "legendgroup": "421028",
         "marker": {
          "color": "#636efa",
          "pattern": {
           "shape": ""
          }
         },
         "name": "421028",
         "orientation": "h",
         "showlegend": true,
         "textposition": "auto",
         "type": "bar",
         "x": {
          "bdata": "QAhsAA==",
          "dtype": "i4"
         },
         "xaxis": "x",
         "y": {
          "bdata": "pGwGAA==",
          "dtype": "i4"
         },
         "yaxis": "y"
        },
        {
         "base": [
          "2023-04-15T03:55:22"
         ],
         "hovertemplate": "window_id=%{y}<br>window_start=%{base}<br>window_end=%{x}<extra></extra>",
         "legendgroup": "421029",
         "marker": {
          "color": "#EF553B",
          "pattern": {
           "shape": ""
          }
         },
         "name": "421029",
         "orientation": "h",
         "showlegend": true,
         "textposition": "auto",
         "type": "bar",
         "x": {
          "bdata": "QAhsAA==",
          "dtype": "i4"
         },
         "xaxis": "x",
         "y": {
          "bdata": "pWwGAA==",
          "dtype": "i4"
         },
         "yaxis": "y"
        },
        {
         "base": [
          "2023-04-15T03:57:22"
         ],
         "hovertemplate": "window_id=%{y}<br>window_start=%{base}<br>window_end=%{x}<extra></extra>",
         "legendgroup": "421030",
         "marker": {
          "color": "#00cc96",
          "pattern": {
           "shape": ""
          }
         },
         "name": "421030",
         "orientation": "h",
         "showlegend": true,
         "textposition": "auto",
         "type": "bar",
         "x": {
          "bdata": "QAhsAA==",
          "dtype": "i4"
         },
         "xaxis": "x",
         "y": {
          "bdata": "pmwGAA==",
          "dtype": "i4"
         },
         "yaxis": "y"
        },
        {
         "base": [
          "2023-04-15T03:59:22"
         ],
         "hovertemplate": "window_id=%{y}<br>window_start=%{base}<br>window_end=%{x}<extra></extra>",
         "legendgroup": "421031",
         "marker": {
          "color": "#ab63fa",
          "pattern": {
           "shape": ""
          }
         },
         "name": "421031",
         "orientation": "h",
         "showlegend": true,
         "textposition": "auto",
         "type": "bar",
         "x": {
          "bdata": "QAhsAA==",
          "dtype": "i4"
         },
         "xaxis": "x",
         "y": {
          "bdata": "p2wGAA==",
          "dtype": "i4"
         },
         "yaxis": "y"
        },
        {
         "base": [
          "2023-04-15T04:01:22"
         ],
         "hovertemplate": "window_id=%{y}<br>window_start=%{base}<br>window_end=%{x}<extra></extra>",
         "legendgroup": "421032",
         "marker": {
          "color": "#FFA15A",
          "pattern": {
           "shape": ""
          }
         },
         "name": "421032",
         "orientation": "h",
         "showlegend": true,
         "textposition": "auto",
         "type": "bar",
         "x": {
          "bdata": "QAhsAA==",
          "dtype": "i4"
         },
         "xaxis": "x",
         "y": {
          "bdata": "qGwGAA==",
          "dtype": "i4"
         },
         "yaxis": "y"
        },
        {
         "base": [
          "2023-04-15T04:03:22"
         ],
         "hovertemplate": "window_id=%{y}<br>window_start=%{base}<br>window_end=%{x}<extra></extra>",
         "legendgroup": "421033",
         "marker": {
          "color": "#19d3f3",
          "pattern": {
           "shape": ""
          }
         },
         "name": "421033",
         "orientation": "h",
         "showlegend": true,
         "textposition": "auto",
         "type": "bar",
         "x": {
          "bdata": "QAhsAA==",
          "dtype": "i4"
         },
         "xaxis": "x",
         "y": {
          "bdata": "qWwGAA==",
          "dtype": "i4"
         },
         "yaxis": "y"
        },
        {
         "base": [
          "2023-04-15T04:05:22"
         ],
         "hovertemplate": "window_id=%{y}<br>window_start=%{base}<br>window_end=%{x}<extra></extra>",
         "legendgroup": "421034",
         "marker": {
          "color": "#FF6692",
          "pattern": {
           "shape": ""
          }
         },
         "name": "421034",
         "orientation": "h",
         "showlegend": true,
         "textposition": "auto",
         "type": "bar",
         "x": {
          "bdata": "QAhsAA==",
          "dtype": "i4"
         },
         "xaxis": "x",
         "y": {
          "bdata": "qmwGAA==",
          "dtype": "i4"
         },
         "yaxis": "y"
        },
        {
         "base": [
          "2023-04-15T04:07:22"
         ],
         "hovertemplate": "window_id=%{y}<br>window_start=%{base}<br>window_end=%{x}<extra></extra>",
         "legendgroup": "421035",
         "marker": {
          "color": "#B6E880",
          "pattern": {
           "shape": ""
          }
         },
         "name": "421035",
         "orientation": "h",
         "showlegend": true,
         "textposition": "auto",
         "type": "bar",
         "x": {
          "bdata": "QAhsAA==",
          "dtype": "i4"
         },
         "xaxis": "x",
         "y": {
          "bdata": "q2wGAA==",
          "dtype": "i4"
         },
         "yaxis": "y"
        },
        {
         "base": [
          "2023-04-15T04:09:22"
         ],
         "hovertemplate": "window_id=%{y}<br>window_start=%{base}<br>window_end=%{x}<extra></extra>",
         "legendgroup": "421036",
         "marker": {
          "color": "#FF97FF",
          "pattern": {
           "shape": ""
          }
         },
         "name": "421036",
         "orientation": "h",
         "showlegend": true,
         "textposition": "auto",
         "type": "bar",
         "x": {
          "bdata": "QAhsAA==",
          "dtype": "i4"
         },
         "xaxis": "x",
         "y": {
          "bdata": "rGwGAA==",
          "dtype": "i4"
         },
         "yaxis": "y"
        },
        {
         "base": [
          "2023-04-15T04:11:22"
         ],
         "hovertemplate": "window_id=%{y}<br>window_start=%{base}<br>window_end=%{x}<extra></extra>",
         "legendgroup": "421037",
         "marker": {
          "color": "#FECB52",
          "pattern": {
           "shape": ""
          }
         },
         "name": "421037",
         "orientation": "h",
         "showlegend": true,
         "textposition": "auto",
         "type": "bar",
         "x": {
          "bdata": "QAhsAA==",
          "dtype": "i4"
         },
         "xaxis": "x",
         "y": {
          "bdata": "rWwGAA==",
          "dtype": "i4"
         },
         "yaxis": "y"
        },
        {
         "base": [
          "2023-04-15T04:13:22"
         ],
         "hovertemplate": "window_id=%{y}<br>window_start=%{base}<br>window_end=%{x}<extra></extra>",
         "legendgroup": "421038",
         "marker": {
          "color": "#636efa",
          "pattern": {
           "shape": ""
          }
         },
         "name": "421038",
         "orientation": "h",
         "showlegend": true,
         "textposition": "auto",
         "type": "bar",
         "x": {
          "bdata": "QAhsAA==",
          "dtype": "i4"
         },
         "xaxis": "x",
         "y": {
          "bdata": "rmwGAA==",
          "dtype": "i4"
         },
         "yaxis": "y"
        },
        {
         "base": [
          "2023-04-15T04:15:22"
         ],
         "hovertemplate": "window_id=%{y}<br>window_start=%{base}<br>window_end=%{x}<extra></extra>",
         "legendgroup": "421039",
         "marker": {
          "color": "#EF553B",
          "pattern": {
           "shape": ""
          }
         },
         "name": "421039",
         "orientation": "h",
         "showlegend": true,
         "textposition": "auto",
         "type": "bar",
         "x": {
          "bdata": "QAhsAA==",
          "dtype": "i4"
         },
         "xaxis": "x",
         "y": {
          "bdata": "r2wGAA==",
          "dtype": "i4"
         },
         "yaxis": "y"
        },
        {
         "base": [
          "2023-04-15T04:17:22"
         ],
         "hovertemplate": "window_id=%{y}<br>window_start=%{base}<br>window_end=%{x}<extra></extra>",
         "legendgroup": "421040",
         "marker": {
          "color": "#00cc96",
          "pattern": {
           "shape": ""
          }
         },
         "name": "421040",
         "orientation": "h",
         "showlegend": true,
         "textposition": "auto",
         "type": "bar",
         "x": {
          "bdata": "QAhsAA==",
          "dtype": "i4"
         },
         "xaxis": "x",
         "y": {
          "bdata": "sGwGAA==",
          "dtype": "i4"
         },
         "yaxis": "y"
        },
        {
         "base": [
          "2023-04-15T04:19:22"
         ],
         "hovertemplate": "window_id=%{y}<br>window_start=%{base}<br>window_end=%{x}<extra></extra>",
         "legendgroup": "421041",
         "marker": {
          "color": "#ab63fa",
          "pattern": {
           "shape": ""
          }
         },
         "name": "421041",
         "orientation": "h",
         "showlegend": true,
         "textposition": "auto",
         "type": "bar",
         "x": {
          "bdata": "QAhsAA==",
          "dtype": "i4"
         },
         "xaxis": "x",
         "y": {
          "bdata": "sWwGAA==",
          "dtype": "i4"
         },
         "yaxis": "y"
        },
        {
         "base": [
          "2023-04-15T04:21:22"
         ],
         "hovertemplate": "window_id=%{y}<br>window_start=%{base}<br>window_end=%{x}<extra></extra>",
         "legendgroup": "421042",
         "marker": {
          "color": "#FFA15A",
          "pattern": {
           "shape": ""
          }
         },
         "name": "421042",
         "orientation": "h",
         "showlegend": true,
         "textposition": "auto",
         "type": "bar",
         "x": {
          "bdata": "QAhsAA==",
          "dtype": "i4"
         },
         "xaxis": "x",
         "y": {
          "bdata": "smwGAA==",
          "dtype": "i4"
         },
         "yaxis": "y"
        },
        {
         "base": [
          "2023-04-15T04:23:22"
         ],
         "hovertemplate": "window_id=%{y}<br>window_start=%{base}<br>window_end=%{x}<extra></extra>",
         "legendgroup": "421043",
         "marker": {
          "color": "#19d3f3",
          "pattern": {
           "shape": ""
          }
         },
         "name": "421043",
         "orientation": "h",
         "showlegend": true,
         "textposition": "auto",
         "type": "bar",
         "x": {
          "bdata": "QAhsAA==",
          "dtype": "i4"
         },
         "xaxis": "x",
         "y": {
          "bdata": "s2wGAA==",
          "dtype": "i4"
         },
         "yaxis": "y"
        },
        {
         "base": [
          "2023-04-15T04:25:22"
         ],
         "hovertemplate": "window_id=%{y}<br>window_start=%{base}<br>window_end=%{x}<extra></extra>",
         "legendgroup": "421044",
         "marker": {
          "color": "#FF6692",
          "pattern": {
           "shape": ""
          }
         },
         "name": "421044",
         "orientation": "h",
         "showlegend": true,
         "textposition": "auto",
         "type": "bar",
         "x": {
          "bdata": "QAhsAA==",
          "dtype": "i4"
         },
         "xaxis": "x",
         "y": {
          "bdata": "tGwGAA==",
          "dtype": "i4"
         },
         "yaxis": "y"
        },
        {
         "base": [
          "2023-04-15T04:27:22"
         ],
         "hovertemplate": "window_id=%{y}<br>window_start=%{base}<br>window_end=%{x}<extra></extra>",
         "legendgroup": "421045",
         "marker": {
          "color": "#B6E880",
          "pattern": {
           "shape": ""
          }
         },
         "name": "421045",
         "orientation": "h",
         "showlegend": true,
         "textposition": "auto",
         "type": "bar",
         "x": {
          "bdata": "QAhsAA==",
          "dtype": "i4"
         },
         "xaxis": "x",
         "y": {
          "bdata": "tWwGAA==",
          "dtype": "i4"
         },
         "yaxis": "y"
        },
        {
         "base": [
          "2023-04-15T04:29:22"
         ],
         "hovertemplate": "window_id=%{y}<br>window_start=%{base}<br>window_end=%{x}<extra></extra>",
         "legendgroup": "421046",
         "marker": {
          "color": "#FF97FF",
          "pattern": {
           "shape": ""
          }
         },
         "name": "421046",
         "orientation": "h",
         "showlegend": true,
         "textposition": "auto",
         "type": "bar",
         "x": {
          "bdata": "QAhsAA==",
          "dtype": "i4"
         },
         "xaxis": "x",
         "y": {
          "bdata": "tmwGAA==",
          "dtype": "i4"
         },
         "yaxis": "y"
        },
        {
         "base": [
          "2023-04-15T04:31:22"
         ],
         "hovertemplate": "window_id=%{y}<br>window_start=%{base}<br>window_end=%{x}<extra></extra>",
         "legendgroup": "421047",
         "marker": {
          "color": "#FECB52",
          "pattern": {
           "shape": ""
          }
         },
         "name": "421047",
         "orientation": "h",
         "showlegend": true,
         "textposition": "auto",
         "type": "bar",
         "x": {
          "bdata": "QAhsAA==",
          "dtype": "i4"
         },
         "xaxis": "x",
         "y": {
          "bdata": "t2wGAA==",
          "dtype": "i4"
         },
         "yaxis": "y"
        },
        {
         "base": [
          "2023-04-15T04:33:22"
         ],
         "hovertemplate": "window_id=%{y}<br>window_start=%{base}<br>window_end=%{x}<extra></extra>",
         "legendgroup": "421048",
         "marker": {
          "color": "#636efa",
          "pattern": {
           "shape": ""
          }
         },
         "name": "421048",
         "orientation": "h",
         "showlegend": true,
         "textposition": "auto",
         "type": "bar",
         "x": {
          "bdata": "QAhsAA==",
          "dtype": "i4"
         },
         "xaxis": "x",
         "y": {
          "bdata": "uGwGAA==",
          "dtype": "i4"
         },
         "yaxis": "y"
        },
        {
         "base": [
          "2023-04-15T04:35:22"
         ],
         "hovertemplate": "window_id=%{y}<br>window_start=%{base}<br>window_end=%{x}<extra></extra>",
         "legendgroup": "421049",
         "marker": {
          "color": "#EF553B",
          "pattern": {
           "shape": ""
          }
         },
         "name": "421049",
         "orientation": "h",
         "showlegend": true,
         "textposition": "auto",
         "type": "bar",
         "x": {
          "bdata": "QAhsAA==",
          "dtype": "i4"
         },
         "xaxis": "x",
         "y": {
          "bdata": "uWwGAA==",
          "dtype": "i4"
         },
         "yaxis": "y"
        }
       ],
       "layout": {
        "barmode": "overlay",
        "height": 640,
        "legend": {
         "title": {
          "text": "window_id"
         },
         "tracegroupgap": 0
        },
        "template": {
         "data": {
          "bar": [
           {
            "error_x": {
             "color": "#2a3f5f"
            },
            "error_y": {
             "color": "#2a3f5f"
            },
            "marker": {
             "line": {
              "color": "#E5ECF6",
              "width": 0.5
             },
             "pattern": {
              "fillmode": "overlay",
              "size": 10,
              "solidity": 0.2
             }
            },
            "type": "bar"
           }
          ],
          "barpolar": [
           {
            "marker": {
             "line": {
              "color": "#E5ECF6",
              "width": 0.5
             },
             "pattern": {
              "fillmode": "overlay",
              "size": 10,
              "solidity": 0.2
             }
            },
            "type": "barpolar"
           }
          ],
          "carpet": [
           {
            "aaxis": {
             "endlinecolor": "#2a3f5f",
             "gridcolor": "white",
             "linecolor": "white",
             "minorgridcolor": "white",
             "startlinecolor": "#2a3f5f"
            },
            "baxis": {
             "endlinecolor": "#2a3f5f",
             "gridcolor": "white",
             "linecolor": "white",
             "minorgridcolor": "white",
             "startlinecolor": "#2a3f5f"
            },
            "type": "carpet"
           }
          ],
          "choropleth": [
           {
            "colorbar": {
             "outlinewidth": 0,
             "ticks": ""
            },
            "type": "choropleth"
           }
          ],
          "contour": [
           {
            "colorbar": {
             "outlinewidth": 0,
             "ticks": ""
            },
            "colorscale": [
             [
              0,
              "#0d0887"
             ],
             [
              0.1111111111111111,
              "#46039f"
             ],
             [
              0.2222222222222222,
              "#7201a8"
             ],
             [
              0.3333333333333333,
              "#9c179e"
             ],
             [
              0.4444444444444444,
              "#bd3786"
             ],
             [
              0.5555555555555556,
              "#d8576b"
             ],
             [
              0.6666666666666666,
              "#ed7953"
             ],
             [
              0.7777777777777778,
              "#fb9f3a"
             ],
             [
              0.8888888888888888,
              "#fdca26"
             ],
             [
              1,
              "#f0f921"
             ]
            ],
            "type": "contour"
           }
          ],
          "contourcarpet": [
           {
            "colorbar": {
             "outlinewidth": 0,
             "ticks": ""
            },
            "type": "contourcarpet"
           }
          ],
          "heatmap": [
           {
            "colorbar": {
             "outlinewidth": 0,
             "ticks": ""
            },
            "colorscale": [
             [
              0,
              "#0d0887"
             ],
             [
              0.1111111111111111,
              "#46039f"
             ],
             [
              0.2222222222222222,
              "#7201a8"
             ],
             [
              0.3333333333333333,
              "#9c179e"
             ],
             [
              0.4444444444444444,
              "#bd3786"
             ],
             [
              0.5555555555555556,
              "#d8576b"
             ],
             [
              0.6666666666666666,
              "#ed7953"
             ],
             [
              0.7777777777777778,
              "#fb9f3a"
             ],
             [
              0.8888888888888888,
              "#fdca26"
             ],
             [
              1,
              "#f0f921"
             ]
            ],
            "type": "heatmap"
           }
          ],
          "histogram": [
           {
            "marker": {
             "pattern": {
              "fillmode": "overlay",
              "size": 10,
              "solidity": 0.2
             }
            },
            "type": "histogram"
           }
          ],
          "histogram2d": [
           {
            "colorbar": {
             "outlinewidth": 0,
             "ticks": ""
            },
            "colorscale": [
             [
              0,
              "#0d0887"
             ],
             [
              0.1111111111111111,
              "#46039f"
             ],
             [
              0.2222222222222222,
              "#7201a8"
             ],
             [
              0.3333333333333333,
              "#9c179e"
             ],
             [
              0.4444444444444444,
              "#bd3786"
             ],
             [
              0.5555555555555556,
              "#d8576b"
             ],
             [
              0.6666666666666666,
              "#ed7953"
             ],
             [
              0.7777777777777778,
              "#fb9f3a"
             ],
             [
              0.8888888888888888,
              "#fdca26"
             ],
             [
              1,
              "#f0f921"
             ]
            ],
            "type": "histogram2d"
           }
          ],
          "histogram2dcontour": [
           {
            "colorbar": {
             "outlinewidth": 0,
             "ticks": ""
            },
            "colorscale": [
             [
              0,
              "#0d0887"
             ],
             [
              0.1111111111111111,
              "#46039f"
             ],
             [
              0.2222222222222222,
              "#7201a8"
             ],
             [
              0.3333333333333333,
              "#9c179e"
             ],
             [
              0.4444444444444444,
              "#bd3786"
             ],
             [
              0.5555555555555556,
              "#d8576b"
             ],
             [
              0.6666666666666666,
              "#ed7953"
             ],
             [
              0.7777777777777778,
              "#fb9f3a"
             ],
             [
              0.8888888888888888,
              "#fdca26"
             ],
             [
              1,
              "#f0f921"
             ]
            ],
            "type": "histogram2dcontour"
           }
          ],
          "mesh3d": [
           {
            "colorbar": {
             "outlinewidth": 0,
             "ticks": ""
            },
            "type": "mesh3d"
           }
          ],
          "parcoords": [
           {
            "line": {
             "colorbar": {
              "outlinewidth": 0,
              "ticks": ""
             }
            },
            "type": "parcoords"
           }
          ],
          "pie": [
           {
            "automargin": true,
            "type": "pie"
           }
          ],
          "scatter": [
           {
            "fillpattern": {
             "fillmode": "overlay",
             "size": 10,
             "solidity": 0.2
            },
            "type": "scatter"
           }
          ],
          "scatter3d": [
           {
            "line": {
             "colorbar": {
              "outlinewidth": 0,
              "ticks": ""
             }
            },
            "marker": {
             "colorbar": {
              "outlinewidth": 0,
              "ticks": ""
             }
            },
            "type": "scatter3d"
           }
          ],
          "scattercarpet": [
           {
            "marker": {
             "colorbar": {
              "outlinewidth": 0,
              "ticks": ""
             }
            },
            "type": "scattercarpet"
           }
          ],
          "scattergeo": [
           {
            "marker": {
             "colorbar": {
              "outlinewidth": 0,
              "ticks": ""
             }
            },
            "type": "scattergeo"
           }
          ],
          "scattergl": [
           {
            "marker": {
             "colorbar": {
              "outlinewidth": 0,
              "ticks": ""
             }
            },
            "type": "scattergl"
           }
          ],
          "scattermap": [
           {
            "marker": {
             "colorbar": {
              "outlinewidth": 0,
              "ticks": ""
             }
            },
            "type": "scattermap"
           }
          ],
          "scattermapbox": [
           {
            "marker": {
             "colorbar": {
              "outlinewidth": 0,
              "ticks": ""
             }
            },
            "type": "scattermapbox"
           }
          ],
          "scatterpolar": [
           {
            "marker": {
             "colorbar": {
              "outlinewidth": 0,
              "ticks": ""
             }
            },
            "type": "scatterpolar"
           }
          ],
          "scatterpolargl": [
           {
            "marker": {
             "colorbar": {
              "outlinewidth": 0,
              "ticks": ""
             }
            },
            "type": "scatterpolargl"
           }
          ],
          "scatterternary": [
           {
            "marker": {
             "colorbar": {
              "outlinewidth": 0,
              "ticks": ""
             }
            },
            "type": "scatterternary"
           }
          ],
          "surface": [
           {
            "colorbar": {
             "outlinewidth": 0,
             "ticks": ""
            },
            "colorscale": [
             [
              0,
              "#0d0887"
             ],
             [
              0.1111111111111111,
              "#46039f"
             ],
             [
              0.2222222222222222,
              "#7201a8"
             ],
             [
              0.3333333333333333,
              "#9c179e"
             ],
             [
              0.4444444444444444,
              "#bd3786"
             ],
             [
              0.5555555555555556,
              "#d8576b"
             ],
             [
              0.6666666666666666,
              "#ed7953"
             ],
             [
              0.7777777777777778,
              "#fb9f3a"
             ],
             [
              0.8888888888888888,
              "#fdca26"
             ],
             [
              1,
              "#f0f921"
             ]
            ],
            "type": "surface"
           }
          ],
          "table": [
           {
            "cells": {
             "fill": {
              "color": "#EBF0F8"
             },
             "line": {
              "color": "white"
             }
            },
            "header": {
             "fill": {
              "color": "#C8D4E3"
             },
             "line": {
              "color": "white"
             }
            },
            "type": "table"
           }
          ]
         },
         "layout": {
          "annotationdefaults": {
           "arrowcolor": "#2a3f5f",
           "arrowhead": 0,
           "arrowwidth": 1
          },
          "autotypenumbers": "strict",
          "coloraxis": {
           "colorbar": {
            "outlinewidth": 0,
            "ticks": ""
           }
          },
          "colorscale": {
           "diverging": [
            [
             0,
             "#8e0152"
            ],
            [
             0.1,
             "#c51b7d"
            ],
            [
             0.2,
             "#de77ae"
            ],
            [
             0.3,
             "#f1b6da"
            ],
            [
             0.4,
             "#fde0ef"
            ],
            [
             0.5,
             "#f7f7f7"
            ],
            [
             0.6,
             "#e6f5d0"
            ],
            [
             0.7,
             "#b8e186"
            ],
            [
             0.8,
             "#7fbc41"
            ],
            [
             0.9,
             "#4d9221"
            ],
            [
             1,
             "#276419"
            ]
           ],
           "sequential": [
            [
             0,
             "#0d0887"
            ],
            [
             0.1111111111111111,
             "#46039f"
            ],
            [
             0.2222222222222222,
             "#7201a8"
            ],
            [
             0.3333333333333333,
             "#9c179e"
            ],
            [
             0.4444444444444444,
             "#bd3786"
            ],
            [
             0.5555555555555556,
             "#d8576b"
            ],
            [
             0.6666666666666666,
             "#ed7953"
            ],
            [
             0.7777777777777778,
             "#fb9f3a"
            ],
            [
             0.8888888888888888,
             "#fdca26"
            ],
            [
             1,
             "#f0f921"
            ]
           ],
           "sequentialminus": [
            [
             0,
             "#0d0887"
            ],
            [
             0.1111111111111111,
             "#46039f"
            ],
            [
             0.2222222222222222,
             "#7201a8"
            ],
            [
             0.3333333333333333,
             "#9c179e"
            ],
            [
             0.4444444444444444,
             "#bd3786"
            ],
            [
             0.5555555555555556,
             "#d8576b"
            ],
            [
             0.6666666666666666,
             "#ed7953"
            ],
            [
             0.7777777777777778,
             "#fb9f3a"
            ],
            [
             0.8888888888888888,
             "#fdca26"
            ],
            [
             1,
             "#f0f921"
            ]
           ]
          },
          "colorway": [
           "#636efa",
           "#EF553B",
           "#00cc96",
           "#ab63fa",
           "#FFA15A",
           "#19d3f3",
           "#FF6692",
           "#B6E880",
           "#FF97FF",
           "#FECB52"
          ],
          "font": {
           "color": "#2a3f5f"
          },
          "geo": {
           "bgcolor": "white",
           "lakecolor": "white",
           "landcolor": "#E5ECF6",
           "showlakes": true,
           "showland": true,
           "subunitcolor": "white"
          },
          "hoverlabel": {
           "align": "left"
          },
          "hovermode": "closest",
          "mapbox": {
           "style": "light"
          },
          "paper_bgcolor": "white",
          "plot_bgcolor": "#E5ECF6",
          "polar": {
           "angularaxis": {
            "gridcolor": "white",
            "linecolor": "white",
            "ticks": ""
           },
           "bgcolor": "#E5ECF6",
           "radialaxis": {
            "gridcolor": "white",
            "linecolor": "white",
            "ticks": ""
           }
          },
          "scene": {
           "xaxis": {
            "backgroundcolor": "#E5ECF6",
            "gridcolor": "white",
            "gridwidth": 2,
            "linecolor": "white",
            "showbackground": true,
            "ticks": "",
            "zerolinecolor": "white"
           },
           "yaxis": {
            "backgroundcolor": "#E5ECF6",
            "gridcolor": "white",
            "gridwidth": 2,
            "linecolor": "white",
            "showbackground": true,
            "ticks": "",
            "zerolinecolor": "white"
           },
           "zaxis": {
            "backgroundcolor": "#E5ECF6",
            "gridcolor": "white",
            "gridwidth": 2,
            "linecolor": "white",
            "showbackground": true,
            "ticks": "",
            "zerolinecolor": "white"
           }
          },
          "shapedefaults": {
           "line": {
            "color": "#2a3f5f"
           }
          },
          "ternary": {
           "aaxis": {
            "gridcolor": "white",
            "linecolor": "white",
            "ticks": ""
           },
           "baxis": {
            "gridcolor": "white",
            "linecolor": "white",
            "ticks": ""
           },
           "bgcolor": "#E5ECF6",
           "caxis": {
            "gridcolor": "white",
            "linecolor": "white",
            "ticks": ""
           }
          },
          "title": {
           "x": 0.05
          },
          "xaxis": {
           "automargin": true,
           "gridcolor": "white",
           "linecolor": "white",
           "ticks": "",
           "title": {
            "standoff": 15
           },
           "zerolinecolor": "white",
           "zerolinewidth": 2
          },
          "yaxis": {
           "automargin": true,
           "gridcolor": "white",
           "linecolor": "white",
           "ticks": "",
           "title": {
            "standoff": 15
           },
           "zerolinecolor": "white",
           "zerolinewidth": 2
          }
         }
        },
        "title": {
         "text": "Valid Windows Gantt Chart"
        },
        "width": 800,
        "xaxis": {
         "anchor": "y",
         "domain": [
          0,
          1
         ],
         "type": "date"
        },
        "yaxis": {
         "anchor": "x",
         "autorange": "reversed",
         "categoryarray": [
          421049,
          421048,
          421047,
          421046,
          421045,
          421044,
          421043,
          421042,
          421041,
          421040,
          421039,
          421038,
          421037,
          421036,
          421035,
          421034,
          421033,
          421032,
          421031,
          421030,
          421029,
          421028,
          421027,
          421026,
          421025,
          421024,
          421023,
          421022,
          421021,
          421020,
          421019,
          421018,
          421017,
          421016,
          421015,
          421014,
          421013,
          421012,
          421011,
          421010,
          421009,
          421008,
          421007,
          421006,
          421005,
          421004,
          421003,
          421002,
          421001,
          421000,
          420999,
          420998,
          420997,
          420996,
          420995,
          420994,
          420993,
          420992,
          420991,
          420990,
          420989,
          420988,
          420987,
          420986,
          420985,
          420984,
          420983,
          420982,
          420981,
          420980,
          420979,
          420978,
          420977,
          420976,
          420975,
          420974,
          420973,
          420972,
          420971,
          420970,
          420969,
          420968,
          420967,
          420966,
          420965,
          420964,
          420963,
          420962,
          420961,
          420960,
          420959,
          420958,
          420957,
          420956,
          420955,
          420954,
          420953,
          420952,
          420951,
          420950,
          420949,
          420948,
          420947,
          420946,
          420945,
          420944,
          420943,
          420942,
          420941,
          420940,
          420939,
          420938,
          420937,
          420936,
          420935,
          420934,
          420933,
          420932,
          420931,
          420930,
          420929,
          420928
         ],
         "categoryorder": "array",
         "domain": [
          0,
          1
         ],
         "title": {
          "text": "window_id"
         }
        }
       }
      },
      "image/png": "[encoded data removed]"
     },
     "metadata": {},
     "output_type": "display_data"
    }
   ],
   "source": [
    "import plotly.express as px\n",
    "\n",
    "# Ensure your start/end columns are datetime\n",
    "data['window_start'] = pd.to_datetime(data['window_start'])\n",
    "data['window_end'] = pd.to_datetime(data['window_end'])\n",
    "# Convert window_id to categorical\n",
    "data['window_id'] = data['window_id'].astype('category')\n",
    "\n",
    "fig = px.timeline(\n",
    "    data,\n",
    "    x_start=\"window_start\",\n",
    "    x_end=\"window_end\",\n",
    "    y=\"window_id\",          # Each window_id on its own row\n",
    "    color=\"window_id\",      # Optional: color by window_id\n",
    "    title=\"Valid Windows Gantt Chart\"\n",
    ")\n",
    "\n",
    "fig.update_yaxes(autorange=\"reversed\")  # So earliest window is at the top\n",
    "fig.update_layout(height=640, width=800)\n",
    "fig.show()\n"
   ]
  },
  {
   "cell_type": "code",
   "execution_count": 5,
   "metadata": {
    "execution": {
     "iopub.execute_input": "2025-09-02T08:20:01.850918Z",
     "iopub.status.busy": "2025-09-02T08:20:01.850680Z",
     "iopub.status.idle": "2025-09-02T08:20:02.114687Z",
     "shell.execute_reply": "2025-09-02T08:20:02.113673Z",
     "shell.execute_reply.started": "2025-09-02T08:20:01.850897Z"
    }
   },
   "outputs": [
    {
     "name": "stderr",
     "output_type": "stream",
     "text": [
      "2025-09-02 15:20:01,852 - INFO - --- Performing model clustering for the autoencoder model ---\n"
     ]
    },
    {
     "name": "stdout",
     "output_type": "stream",
     "text": [
      "Reloading modules in directory: /root/fire-detection\n"
     ]
    },
    {
     "ename": "TypeError",
     "evalue": "create_full_dataloader() missing 3 required positional arguments: 'num_samples', 'random_seed', and 'batch_size'",
     "output_type": "error",
     "traceback": [
      "\u001b[31m---------------------------------------------------------------------------\u001b[39m",
      "\u001b[31mTypeError\u001b[39m                                 Traceback (most recent call last)",
      "\u001b[36mCell\u001b[39m\u001b[36m \u001b[39m\u001b[32mIn[5]\u001b[39m\u001b[32m, line 6\u001b[39m\n\u001b[32m      4\u001b[39m logging.info(\u001b[33m\"\u001b[39m\u001b[33m--- Performing model clustering for the autoencoder model ---\u001b[39m\u001b[33m\"\u001b[39m)\n\u001b[32m      5\u001b[39m reload_all()\n\u001b[32m----> \u001b[39m\u001b[32m6\u001b[39m dataloader = \u001b[43mcreate_full_dataloader\u001b[49m\u001b[43m(\u001b[49m\u001b[43mconfig\u001b[49m\u001b[43m)\u001b[49m\n\u001b[32m      7\u001b[39m config.tuning.KMEANS_N_CLUSTERS = \u001b[32m32\u001b[39m\n\u001b[32m      8\u001b[39m config.tuning.DBSCAN_EPS = \u001b[32m0.5\u001b[39m\n",
      "\u001b[31mTypeError\u001b[39m: create_full_dataloader() missing 3 required positional arguments: 'num_samples', 'random_seed', and 'batch_size'"
     ]
    }
   ],
   "source": [
    "SKIP_CLUSTERING = False\n",
    "\n",
    "if not SKIP_CLUSTERING:\n",
    "    logging.info(\"--- Performing model clustering for the autoencoder model ---\")\n",
    "    reload_all()\n",
    "    dataloader = create_full_dataloader(config)\n",
    "    config.tuning.KMEANS_N_CLUSTERS = 32\n",
    "    config.tuning.DBSCAN_EPS = 0.5\n",
    "    config.tuning.DBSCAN_MIN_SAMPLES = 5\n",
    "    clustering.analyze_embeddings(config, dataloader)\n",
    "else:\n",
    "    logging.info(\"Skipping model clustering for the autoencoder model\")"
   ]
  },
  {
   "cell_type": "markdown",
   "metadata": {},
   "source": [
    "## 6. Hyperparameter Tuning"
   ]
  },
  {
   "cell_type": "markdown",
   "metadata": {},
   "source": [
    "This optional step performs hyperparameter tuning to optimize the autoencoder's performance. It systematically explores different combinations of latent dimensions, hidden layers, and anomaly thresholds to find the best configuration."
   ]
  },
  {
   "cell_type": "code",
   "execution_count": null,
   "metadata": {
    "execution": {
     "iopub.status.busy": "2025-09-02T08:20:02.115145Z",
     "iopub.status.idle": "2025-09-02T08:20:02.115402Z",
     "shell.execute_reply": "2025-09-02T08:20:02.115291Z",
     "shell.execute_reply.started": "2025-09-02T08:20:02.115279Z"
    }
   },
   "outputs": [],
   "source": [
    "# Set to True to skip this step\n",
    "SKIP_HYPERPARAMETER_TUNING = True\n",
    "\n",
    "if not SKIP_HYPERPARAMETER_TUNING:\n",
    "    logging.info(\"--- Performing hyperparameter tuning for the autoencoder model ---\")\n",
    "    #tune_hyperparameters_advanced(config)\n",
    "else:\n",
    "    logging.info(\"Skipping Performing hyperparameter tuning for the autoencoder model\")"
   ]
  },
  {
   "cell_type": "markdown",
   "metadata": {},
   "source": [
    "## Workflow Completed\n",
    "\n",
    "The entire forest fire detection workflow has been executed. You can now review the generated outputs in the `output/` directory.\n",
    "\n",
    "### Key Benefits of the Refactored Structure:\n",
    "- **Clear Module Organization**: Each import now comes from a logically named module\n",
    "- **Single Responsibility**: Each module has a focused purpose\n",
    "- **Easy Maintenance**: Code is organized and easy to find\n",
    "- **No Circular Dependencies**: Clean import structure\n",
    "\n",
    "### Updated Module Mapping:\n",
    "- `data_preprocessing` → Data resampling and windowing\n",
    "- `data_filtering` → Window and distance filtering  \n",
    "- `data_annotation` → Fire distance calculations\n",
    "- `data_sequences` → Dataset creation and sequences\n",
    "- `model_training` → Autoencoder training workflow\n",
    "- `eval_metrics` → Model evaluation and metrics\n",
    "- `eval_tuning` → Hyperparameter optimization"
   ]
  }
 ],
 "metadata": {
  "kernelspec": {
   "display_name": "Python 3 (ipykernel)",
   "language": "python",
   "name": "python3"
  },
  "language_info": {
   "codemirror_mode": {
    "name": "ipython",
    "version": 3
   },
   "file_extension": ".py",
   "mimetype": "text/x-python",
   "name": "python",
   "nbconvert_exporter": "python",
   "pygments_lexer": "ipython3",
   "version": "3.12.10"
  }
 },
 "nbformat": 4,
 "nbformat_minor": 4
}
