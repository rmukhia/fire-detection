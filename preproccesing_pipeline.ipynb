{
 "cells": [
  {
   "cell_type": "code",
   "execution_count": 2,
   "id": "ef1fdc8b-e8a6-4dbc-9847-b761aff68a38",
   "metadata": {
    "execution": {
     "iopub.execute_input": "2025-09-02T09:43:47.654338Z",
     "iopub.status.busy": "2025-09-02T09:43:47.653771Z",
     "iopub.status.idle": "2025-09-02T09:44:07.754590Z",
     "shell.execute_reply": "2025-09-02T09:44:07.753571Z",
     "shell.execute_reply.started": "2025-09-02T09:43:47.654285Z"
    }
   },
   "outputs": [
    {
     "ename": "NameError",
     "evalue": "name 'multiplier' is not defined",
     "output_type": "error",
     "traceback": [
      "\u001b[31m---------------------------------------------------------------------------\u001b[39m",
      "\u001b[31mNameError\u001b[39m                                 Traceback (most recent call last)",
      "\u001b[36mCell\u001b[39m\u001b[36m \u001b[39m\u001b[32mIn[2]\u001b[39m\u001b[32m, line 57\u001b[39m\n\u001b[32m     53\u001b[39m             sequencer = DataSequencer(config, logger=logger)\n\u001b[32m     54\u001b[39m             sequencer.create_dataset(multiplier=m, fit_scaler=\u001b[38;5;28;01mTrue\u001b[39;00m)\n\u001b[32m---> \u001b[39m\u001b[32m57\u001b[39m \u001b[43mmain\u001b[49m\u001b[43m(\u001b[49m\u001b[43m)\u001b[49m\n",
      "\u001b[36mCell\u001b[39m\u001b[36m \u001b[39m\u001b[32mIn[2]\u001b[39m\u001b[32m, line 27\u001b[39m, in \u001b[36mmain\u001b[39m\u001b[34m()\u001b[39m\n\u001b[32m     25\u001b[39m \u001b[38;5;28;01mwith\u001b[39;00m Client(n_workers=\u001b[32m2\u001b[39m, threads_per_worker=\u001b[32m1\u001b[39m) \u001b[38;5;28;01mas\u001b[39;00m client:\n\u001b[32m     26\u001b[39m     mutiplier = [\u001b[32m3\u001b[39m,\u001b[32m6\u001b[39m,\u001b[32m9\u001b[39m,\u001b[32m12\u001b[39m]\n\u001b[32m---> \u001b[39m\u001b[32m27\u001b[39m     \u001b[38;5;28;01mfor\u001b[39;00m m \u001b[38;5;129;01min\u001b[39;00m \u001b[43mmultiplier\u001b[49m:\n\u001b[32m     28\u001b[39m         OUTPUT_DIR = \u001b[33mf\u001b[39m\u001b[33m'\u001b[39m\u001b[33mff_data/output_120min_7h_\u001b[39m\u001b[38;5;132;01m{\u001b[39;00mm\u001b[38;5;132;01m}\u001b[39;00m\u001b[33mx\u001b[39m\u001b[33m'\u001b[39m\n\u001b[32m     29\u001b[39m         MODEL_DIR = \u001b[33mf\u001b[39m\u001b[33m'\u001b[39m\u001b[33mmodel_120min_7h_\u001b[39m\u001b[38;5;132;01m{\u001b[39;00mm\u001b[38;5;132;01m}\u001b[39;00m\u001b[33mx\u001b[39m\u001b[33m'\u001b[39m\n",
      "\u001b[31mNameError\u001b[39m: name 'multiplier' is not defined"
     ]
    }
   ],
   "source": [
    "import os\n",
    "import pandas as pd\n",
    "import geopandas as gpd\n",
    "import multiprocessing as mp\n",
    "import dask.config\n",
    "from aad.common.config import Config\n",
    "from aad.data.loader import DataLoader\n",
    "from aad.data.preprocessing import DataPreprocessor\n",
    "from aad.data.annotation import DataAnnotator\n",
    "from aad.data.sequences import DataSequencer\n",
    "from aad.data.groundtruth import GroundTruthCollector\n",
    "from aad.common.core_logging import ProcessLogger\n",
    "\n",
    "from dask.distributed import Client\n",
    "def main():\n",
    "    config = Config()\n",
    "    logger = ProcessLogger(config, 'logger')\n",
    "    loader = DataLoader(config)\n",
    "    # Load all data\n",
    "    df_sensor, _, df_locations = loader.load_raw_data(label_load=False, location_load=True)\n",
    "    n_workers: int = min(mp.cpu_count(), config.data_pipeline.NUM_WORKERS)\n",
    "    dask.config.set({'temporary_directory': r'tmp'})\n",
    "    # Start Dask cluster for the entire pipeline\n",
    "\n",
    "    with Client(n_workers=2, threads_per_worker=1) as client:\n",
    "        mutiplier = [3,6,9,12]\n",
    "        for m in multiplier:\n",
    "            OUTPUT_DIR = f'ff_data/output_120min_7h_{m}x'\n",
    "            MODEL_DIR = f'model_120min_7h_{m}x'\n",
    "            DATASET_DIR = f'dataset_120min_7h_{m}x'\n",
    "\n",
    "            # Set environment variables for the Config class to pick up\n",
    "            os.environ['OUTPUT_DIR'] = OUTPUT_DIR\n",
    "            os.environ['MODEL_DIR'] = MODEL_DIR\n",
    "            os.environ['DATASET_DIR'] = DATASET_DIR\n",
    "\n",
    "            config = Config()\n",
    "            config.data_pipeline.LOCAL_OFFSET_MINUTES = 420\n",
    "            config.data_pipeline.WINDOW_DURATION_MINUTES = 120\n",
    "\n",
    "            print(f'Processing with window size 120 minutes and offset 7h {m} x')\n",
    "            \n",
    "            # Preprocessing\n",
    "            preprocessor = DataPreprocessor(config, multiplier=m, df_sensor=df_sensor,  logger=logger)\n",
    "            preprocessor.preprocess_data(client=client)\n",
    "            # Ground Truth Processing\n",
    "            groundtruth_collector = GroundTruthCollector(config)\n",
    "            df_groundtruth = groundtruth_collector.collect_groundtruth(start_end_offset_min=180)\n",
    "            # Annotation (using ground truth as labels)\n",
    "            annotator = DataAnnotator(config, df_labels=df_groundtruth, df_locations=df_locations, logger=logger)\n",
    "            annotator.annotate_data(client=client)\n",
    "            # Sequence creation\n",
    "            sequencer = DataSequencer(config, logger=logger)\n",
    "            sequencer.create_dataset(fit_scaler=True)\n",
    "            %%\n",
    "\n",
    "        for i in minutes:       \n",
    "            OUTPUT_DIR = f'D:/ff_data/output_{i}min_0h'\n",
    "            MODEL_DIR = f'model_{i}min_0h'\n",
    "            DATASET_DIR = f'dataset_{i}min_0h'\n",
    "\n",
    "            # Set environment variables for the Config class to pick up\n",
    "            os.environ['OUTPUT_DIR'] = OUTPUT_DIR\n",
    "            os.environ['MODEL_DIR'] = MODEL_DIR\n",
    "            os.environ['DATASET_DIR'] = DATASET_DIR\n",
    "            sequencer.create_dataset(multiplier=m, fit_scaler=True)\n",
    "    \n",
    "            sequencer.create_dataset(fit_scaler=True)\n",
    "\n",
    "        for i in minutes:       \n",
    "            OUTPUT_DIR = f'D:/ff_data/output_{i}min_0h'\n",
    "            MODEL_DIR = f'model_{i}min_0h'\n",
    "            DATASET_DIR = f'dataset_{i}min_0h'\n",
    "\n",
    "            # Set environment variables for the Config class to pick up\n",
    "            os.environ['OUTPUT_DIR'] = OUTPUT_DIR\n",
    "            os.environ['MODEL_DIR'] = MODEL_DIR\n",
    "            os.environ['DATASET_DIR'] = DATASET_DIR\n",
    "\n",
    "main()"
   ]
  },
  {
   "cell_type": "code",
   "execution_count": null,
   "id": "674d242b-2cad-4788-b8c0-c9e5b7333723",
   "metadata": {},
   "outputs": [],
   "source": []
  }
 ],
 "metadata": {
  "kernelspec": {
   "display_name": "Python 3 (ipykernel)",
   "language": "python",
   "name": "python3"
  },
  "language_info": {
   "codemirror_mode": {
    "name": "ipython",
    "version": 3
   },
   "file_extension": ".py",
   "mimetype": "text/x-python",
   "name": "python",
   "nbconvert_exporter": "python",
   "pygments_lexer": "ipython3",
   "version": "3.12.10"
  }
 },
 "nbformat": 4,
 "nbformat_minor": 5
}
